{
 "cells": [
  {
   "cell_type": "markdown",
   "metadata": {},
   "source": [
    "# Build SQL Data Analysis Agents\n",
    "\n",
    "### Want To Become A Full-Stack Generative AI Data Scientist?\n",
    "\n",
    "![Generative AI Data Scientist](../../img/become_a_generative_ai_data_scientist.jpg)\n",
    "\n",
    "I teach Generative AI Data Science to help you build AI-powered data science apps. [**Register for my next Generative AI for Data Scientists workshop here.**](https://learn.business-science.io/ai-register)\n"
   ]
  },
  {
   "cell_type": "markdown",
   "metadata": {},
   "source": [
    "## Multi-Agents for SQL Data Analysis\n",
    "\n",
    "**The SQL Data Analysis agent** we build in this tutorial is a multi-agent that can perform SQL queries on a database and optionally visualize the results. The agent combines 2 subagents:\n",
    "\n",
    "1. **SQL Database Agent:** Query a database, perform basic data analysis, and return the results as a data frame.\n",
    "2. **Data Visualization Agent:** Visualize the results if a user requests a plot.\n",
    "\n",
    "This tutorial will show you how to connect up to a database and perform Data Analysis using SQL queries and visualizations, **all in one agent.** \n",
    "\n",
    "### Database\n",
    "\n",
    "The database is the Northwind Database, a sample database that is used for ERP system demos. The Northwind Database is a contains tables for Customers, Orders, Products, and more."
   ]
  },
  {
   "cell_type": "markdown",
   "metadata": {
    "vscode": {
     "languageId": "bat"
    }
   },
   "source": [
    "# Build SQL Data Analysis Agents\n",
    "\n",
    "### Table of Contents\n",
    "\n",
    "1. [Introduction](#introduction)\n",
    "2. [Load Libraries](#load-libraries)\n",
    "3. [Setup AI and Logging](#setup-ai-and-logging)\n",
    "4. [Connect to a SQL Database](#connect-to-a-sql-database)\n",
    "5. [Create The Agent](#create-the-agent)\n",
    "6. [Run the Agent](#run-the-agent)\n",
    "7. [Response](#response)\n",
    "    1. [SQL Query Code](#sql-query-code)\n",
    "    2. [Pandas Data Frame From SQL Query](#pandas-data-frame-from-sql-query)\n",
    "    3. [Python Pipeline Function](#python-pipeline-function)\n",
    "8. [Make a Plot of Sales Revenue By Week And Territory](#make-a-plot-of-sales-revenue-by-week-and-territory)\n",
    "9. [Free Generative AI Data Science Workshop](#free-generative-ai-data-science-workshop)\n"
   ]
  },
  {
   "cell_type": "markdown",
   "metadata": {},
   "source": [
    "### Load Libraries"
   ]
  },
  {
   "cell_type": "code",
   "execution_count": 1,
   "metadata": {},
   "outputs": [],
   "source": [
    "# * Libraries\n",
    "\n",
    "from langchain_openai import ChatOpenAI\n",
    "\n",
    "import sqlalchemy as sql\n",
    "import pandas as pd\n",
    "import os\n",
    "import yaml\n",
    "\n",
    "from ai_data_science_team.multiagents import SQLDataAnalyst\n",
    "from ai_data_science_team.agents import SQLDatabaseAgent, DataVisualizationAgent"
   ]
  },
  {
   "cell_type": "markdown",
   "metadata": {},
   "source": [
    "### Setup AI and Logging\n",
    "\n",
    "This section of code sets up the LLM inputs and the logging information. Logging is used to store AI-generated code and files during the AI Data Science Teams processing of files. \n",
    "\n",
    "*Important Note:* This example uses OpenAI's API. But any LLM can be used such as Anthropic or local LLMs with Ollama."
   ]
  },
  {
   "cell_type": "code",
   "execution_count": 2,
   "metadata": {},
   "outputs": [
    {
     "data": {
      "text/plain": [
       "ChatOpenAI(client=<openai.resources.chat.completions.Completions object at 0x7fb9286fd2d0>, async_client=<openai.resources.chat.completions.AsyncCompletions object at 0x7fb8e8b31930>, root_client=<openai.OpenAI object at 0x7fb9286fee60>, root_async_client=<openai.AsyncOpenAI object at 0x7fb9286fd150>, model_name='gpt-4o', model_kwargs={}, openai_api_key=SecretStr('**********'))"
      ]
     },
     "execution_count": 2,
     "metadata": {},
     "output_type": "execute_result"
    }
   ],
   "source": [
    "# * Setup\n",
    "\n",
    "MODEL    = \"gpt-4o\"\n",
    "LOG      = True\n",
    "LOG_PATH = os.path.join(os.getcwd(), \"logs/\")\n",
    "\n",
    "os.environ[\"OPENAI_API_KEY\"] = yaml.safe_load(open('../credentials.yml'))['openai']\n",
    "\n",
    "llm = ChatOpenAI(model = MODEL)\n",
    "\n",
    "llm\n"
   ]
  },
  {
   "cell_type": "markdown",
   "metadata": {},
   "source": [
    "### Connect to a SQL Database\n",
    "\n",
    "Next, let's connect to the leads data from a SQL database. We will need to use a `sqlalchemy` connection to use the SQL Database Agent."
   ]
  },
  {
   "cell_type": "code",
   "execution_count": 3,
   "metadata": {},
   "outputs": [
    {
     "data": {
      "text/plain": [
       "<sqlalchemy.engine.base.Connection at 0x7fb9286fe5f0>"
      ]
     },
     "execution_count": 3,
     "metadata": {},
     "output_type": "execute_result"
    }
   ],
   "source": [
    "sql_engine = sql.create_engine(\"sqlite:///data/northwind.db\")\n",
    "\n",
    "conn = sql_engine.connect()\n",
    "\n",
    "conn"
   ]
  },
  {
   "cell_type": "markdown",
   "metadata": {},
   "source": [
    "### Create The Agent\n",
    "\n",
    "Run this code to create the agent with `SQLDataAnalyst()`. This will create a multi-agent that can perform SQL queries on a database and optionally visualize the results. This agent combines 2 subagents:\n",
    "\n",
    "#### SQLDatabaseAgent\n",
    "\n",
    "The `SQLDatabaseAgent` is a subagent that queries a database, performs basic data analysis, and returns the results as a data frame.\n",
    "\n",
    "#### DataVisualizationAgent\n",
    "\n",
    "The `DataVisualizationAgent` is a subagent that visualizes the results if a user requests a plot.\n",
    "\n",
    "Run this code to create the multi-agent:"
   ]
  },
  {
   "cell_type": "code",
   "execution_count": 4,
   "metadata": {},
   "outputs": [
    {
     "data": {
      "image/png": "[encoded data removed]",
      "text/plain": [
       "<ai_data_science_team.multiagents.sql_data_analyst.SQLDataAnalyst object at 0x7fb8e8b32e60>"
      ]
     },
     "execution_count": 4,
     "metadata": {},
     "output_type": "execute_result"
    }
   ],
   "source": [
    "sql_data_analyst = SQLDataAnalyst(\n",
    "    model = llm,\n",
    "    sql_database_agent = SQLDatabaseAgent(\n",
    "        model = llm,\n",
    "        connection = conn,\n",
    "        n_samples = 1,\n",
    "        log = LOG,\n",
    "        log_path = LOG_PATH,\n",
    "        bypass_recommended_steps=False,\n",
    "    ),\n",
    "    data_visualization_agent = DataVisualizationAgent(\n",
    "        model = llm,\n",
    "        n_samples = 10,\n",
    "        log = LOG,\n",
    "        log_path = LOG_PATH,\n",
    "    )\n",
    ")\n",
    "\n",
    "sql_data_analyst"
   ]
  },
  {
   "cell_type": "markdown",
   "metadata": {},
   "source": [
    "### Viewing Subagents With xray\n",
    "\n",
    "Keep in mind that this agent is actually a multi-agent that combines 2 subagents. We can view the subagents by running the following code:"
   ]
  },
  {
   "cell_type": "code",
   "execution_count": 5,
   "metadata": {},
   "outputs": [
    {
     "data": {
      "image/png": "[encoded data removed]",
      "text/plain": [
       "<IPython.core.display.Image object>"
      ]
     },
     "metadata": {},
     "output_type": "display_data"
    }
   ],
   "source": [
    "sql_data_analyst.show(xray=1)"
   ]
  },
  {
   "cell_type": "markdown",
   "metadata": {},
   "source": [
    "## Run the Agent"
   ]
  },
  {
   "cell_type": "markdown",
   "metadata": {},
   "source": [
    "The main inputs to the SQL DB Agent are:\n",
    "\n",
    "- **user_instructions**: What actions you'd like to take on the SQL database query. \n",
    "\n",
    "Let's start with a simple question that a user might want to know about the database:"
   ]
  },
  {
   "cell_type": "markdown",
   "metadata": {},
   "source": [
    "## What tables are in the database?"
   ]
  },
  {
   "cell_type": "code",
   "execution_count": null,
   "metadata": {},
   "outputs": [
    {
     "name": "stdout",
     "output_type": "stream",
     "text": [
      "---SQL DATABASE AGENT----\n",
      "    * RECOMMEND STEPS\n",
      "    * CREATE SQL QUERY CODE\n",
      "    * CREATE PYTHON FUNCTION TO RUN SQL CODE\n",
      "      File saved to: /Users/mdancho/Desktop/course_code/ai-data-science-team/logs/sql_database.py\n",
      "    * EXECUTING AGENT CODE ON SQL CONNECTION\n",
      "    * EXPLAIN AGENT CODE\n"
     ]
    }
   ],
   "source": [
    "sql_data_analyst.invoke_agent(\n",
    "    user_instructions = \"What tables are in the database?\",\n",
    ")"
   ]
  },
  {
   "cell_type": "markdown",
   "metadata": {},
   "source": [
    "### Response\n",
    "\n",
    "The response produced contains everything we need to understand the data cleaning decisions made and get the cleaned dataset. "
   ]
  },
  {
   "cell_type": "code",
   "execution_count": 8,
   "metadata": {},
   "outputs": [
    {
     "data": {
      "text/plain": [
       "['messages',\n",
       " 'user_instructions',\n",
       " 'sql_query_code',\n",
       " 'sql_database_function',\n",
       " 'data_sql',\n",
       " 'data_raw',\n",
       " 'plot_required',\n",
       " 'data_visualization_function',\n",
       " 'plotly_graph']"
      ]
     },
     "execution_count": 8,
     "metadata": {},
     "output_type": "execute_result"
    }
   ],
   "source": [
    "sql_data_analyst.get_state_keys()"
   ]
  },
  {
   "cell_type": "markdown",
   "metadata": {},
   "source": [
    "Not all fields will be filled if the agent did not need to use them.\n",
    "\n",
    "- **sql_query_code**: The SQL query code that was generated by the agent.\n",
    "- **sql_database_function**: The Python function that was generated by the SQL Database Agent.\n",
    "- **data_sql**: The Pandas data frame that was generated by the agent.\n",
    "- **data_visualization_function**: The Python function that was generated by the Data Visualization Agent.\n",
    "- **plotly_graph**: The Plotly graph that was generated by the Data Visualization Agent."
   ]
  },
  {
   "cell_type": "markdown",
   "metadata": {},
   "source": [
    "#### SQL Query Code"
   ]
  },
  {
   "cell_type": "code",
   "execution_count": 10,
   "metadata": {},
   "outputs": [
    {
     "data": {
      "text/markdown": [
       "```sql\n",
       "SELECT name FROM sqlite_master WHERE type='table';\n",
       "```"
      ],
      "text/plain": [
       "<IPython.core.display.Markdown object>"
      ]
     },
     "execution_count": 10,
     "metadata": {},
     "output_type": "execute_result"
    }
   ],
   "source": [
    "sql_data_analyst.get_sql_query_code(markdown=True)"
   ]
  },
  {
   "cell_type": "markdown",
   "metadata": {},
   "source": [
    "#### Pandas Data Frame From SQL Query"
   ]
  },
  {
   "cell_type": "code",
   "execution_count": 11,
   "metadata": {},
   "outputs": [
    {
     "data": {
      "text/html": [
       "<div>\n",
       "<style scoped>\n",
       "    .dataframe tbody tr th:only-of-type {\n",
       "        vertical-align: middle;\n",
       "    }\n",
       "\n",
       "    .dataframe tbody tr th {\n",
       "        vertical-align: top;\n",
       "    }\n",
       "\n",
       "    .dataframe thead th {\n",
       "        text-align: right;\n",
       "    }\n",
       "</style>\n",
       "<table border=\"1\" class=\"dataframe\">\n",
       "  <thead>\n",
       "    <tr style=\"text-align: right;\">\n",
       "      <th></th>\n",
       "      <th>name</th>\n",
       "    </tr>\n",
       "  </thead>\n",
       "  <tbody>\n",
       "    <tr>\n",
       "      <th>0</th>\n",
       "      <td>Categories</td>\n",
       "    </tr>\n",
       "    <tr>\n",
       "      <th>1</th>\n",
       "      <td>sqlite_sequence</td>\n",
       "    </tr>\n",
       "    <tr>\n",
       "      <th>2</th>\n",
       "      <td>CustomerCustomerDemo</td>\n",
       "    </tr>\n",
       "    <tr>\n",
       "      <th>3</th>\n",
       "      <td>CustomerDemographics</td>\n",
       "    </tr>\n",
       "    <tr>\n",
       "      <th>4</th>\n",
       "      <td>Customers</td>\n",
       "    </tr>\n",
       "    <tr>\n",
       "      <th>5</th>\n",
       "      <td>Employees</td>\n",
       "    </tr>\n",
       "    <tr>\n",
       "      <th>6</th>\n",
       "      <td>EmployeeTerritories</td>\n",
       "    </tr>\n",
       "    <tr>\n",
       "      <th>7</th>\n",
       "      <td>Order Details</td>\n",
       "    </tr>\n",
       "    <tr>\n",
       "      <th>8</th>\n",
       "      <td>Orders</td>\n",
       "    </tr>\n",
       "    <tr>\n",
       "      <th>9</th>\n",
       "      <td>Products</td>\n",
       "    </tr>\n",
       "    <tr>\n",
       "      <th>10</th>\n",
       "      <td>Regions</td>\n",
       "    </tr>\n",
       "    <tr>\n",
       "      <th>11</th>\n",
       "      <td>Shippers</td>\n",
       "    </tr>\n",
       "    <tr>\n",
       "      <th>12</th>\n",
       "      <td>Suppliers</td>\n",
       "    </tr>\n",
       "    <tr>\n",
       "      <th>13</th>\n",
       "      <td>Territories</td>\n",
       "    </tr>\n",
       "  </tbody>\n",
       "</table>\n",
       "</div>"
      ],
      "text/plain": [
       "                    name\n",
       "0             Categories\n",
       "1        sqlite_sequence\n",
       "2   CustomerCustomerDemo\n",
       "3   CustomerDemographics\n",
       "4              Customers\n",
       "5              Employees\n",
       "6    EmployeeTerritories\n",
       "7          Order Details\n",
       "8                 Orders\n",
       "9               Products\n",
       "10               Regions\n",
       "11              Shippers\n",
       "12             Suppliers\n",
       "13           Territories"
      ]
     },
     "execution_count": 11,
     "metadata": {},
     "output_type": "execute_result"
    }
   ],
   "source": [
    "sql_data_analyst.get_data_sql()"
   ]
  },
  {
   "cell_type": "markdown",
   "metadata": {},
   "source": [
    "#### Python Pipeline Function"
   ]
  },
  {
   "cell_type": "code",
   "execution_count": 12,
   "metadata": {},
   "outputs": [
    {
     "data": {
      "text/markdown": [
       "```python\n",
       "# Disclaimer: This function was generated by AI. Please review before using.\n",
       "# Agent Name: sql_database_agent\n",
       "# Time Created: 2025-01-12 20:13:41\n",
       "\n",
       "\n",
       "def sql_database_pipeline(connection):\n",
       "    import pandas as pd\n",
       "    import sqlalchemy as sql\n",
       "    \n",
       "    # Create a connection if needed\n",
       "    is_engine = isinstance(connection, sql.engine.base.Engine)\n",
       "    conn = connection.connect() if is_engine else connection\n",
       "\n",
       "    sql_query = '''\n",
       "    SELECT name FROM sqlite_master WHERE type='table';\n",
       "    '''\n",
       "    \n",
       "    return pd.read_sql(sql_query, connection)\n",
       "        \n",
       "```"
      ],
      "text/plain": [
       "<IPython.core.display.Markdown object>"
      ]
     },
     "execution_count": 12,
     "metadata": {},
     "output_type": "execute_result"
    }
   ],
   "source": [
    "sql_data_analyst.get_sql_database_function(markdown=True)"
   ]
  },
  {
   "cell_type": "markdown",
   "metadata": {},
   "source": [
    "## Make a Plot of Sales Revenue By Week And Territory\n",
    "\n",
    "Once the user has knowledge of the tables in the database, they can ask more complex questions.\n",
    "\n",
    "Let's make a plot of sales revenue by week and territory. This will require a more complex SQL query and a Data Visualization. \n",
    "\n",
    "*Note: This is a more complex question, which may require a high performance model such as \"gpt-4o\". Results will vary by model.*"
   ]
  },
  {
   "cell_type": "code",
   "execution_count": 5,
   "metadata": {},
   "outputs": [
    {
     "name": "stdout",
     "output_type": "stream",
     "text": [
      "---SQL DATABASE AGENT----\n",
      "    * RECOMMEND STEPS\n",
      "    * CREATE SQL QUERY CODE\n",
      "    * CREATE PYTHON FUNCTION TO RUN SQL CODE\n",
      "      File saved to: /Users/mdancho/Desktop/course_code/ai-data-science-team/logs/sql_database.py\n",
      "    * EXECUTING AGENT CODE ON SQL CONNECTION\n",
      "    * EXPLAIN AGENT CODE\n",
      "---DATA VISUALIZATION AGENT----\n",
      "    * CREATE CHART GENERATOR INSTRUCTIONS\n",
      "    * CREATE DATA VISUALIZATION CODE\n",
      "      File saved to: /Users/mdancho/Desktop/course_code/ai-data-science-team/logs/data_visualization.py\n",
      "    * EXECUTING AGENT CODE\n"
     ]
    }
   ],
   "source": [
    "sql_data_analyst.invoke_agent(\n",
    "    user_instructions = \"Make a plot of sales revenue by month by territory. Make a dropdown for the user to select the territory.\",\n",
    ")"
   ]
  },
  {
   "cell_type": "code",
   "execution_count": 6,
   "metadata": {},
   "outputs": [
    {
     "data": {
      "application/vnd.plotly.v1+json": {
       "config": {
        "plotlyServerURL": "https://plot.ly"
       },
       "data": [
        {
         "marker": {
          "color": "#3381ff"
         },
         "name": "British Isles",
         "type": "bar",
         "x": [
          "2012-07",
          "2012-08",
          "2012-09",
          "2012-10",
          "2012-11",
          "2012-12",
          "2013-01",
          "2013-02",
          "2013-03",
          "2013-04",
          "2013-05",
          "2013-06",
          "2013-07",
          "2013-08",
          "2013-09",
          "2013-10",
          "2013-11",
          "2013-12",
          "2014-01",
          "2014-02",
          "2014-03",
          "2014-04",
          "2014-05",
          "2014-06",
          "2014-07",
          "2014-08",
          "2014-09",
          "2014-10",
          "2014-11",
          "2014-12",
          "2015-01",
          "2015-02",
          "2015-03",
          "2015-04",
          "2015-05",
          "2015-06",
          "2015-07",
          "2015-08",
          "2015-09",
          "2015-10",
          "2015-11",
          "2015-12",
          "2016-01",
          "2016-02",
          "2016-03",
          "2016-04",
          "2016-05",
          "2016-06",
          "2016-07",
          "2016-08",
          "2016-09",
          "2016-10",
          "2016-11",
          "2016-12",
          "2017-01",
          "2017-02",
          "2017-03",
          "2017-04",
          "2017-05",
          "2017-06",
          "2017-07",
          "2017-08",
          "2017-09",
          "2017-10",
          "2017-11",
          "2017-12",
          "2018-01",
          "2018-02",
          "2018-03",
          "2018-04",
          "2018-05",
          "2018-06",
          "2018-07",
          "2018-08",
          "2018-09",
          "2018-10",
          "2018-11",
          "2018-12",
          "2019-01",
          "2019-02",
          "2019-03",
          "2019-04",
          "2019-05",
          "2019-06",
          "2019-07",
          "2019-08",
          "2019-09",
          "2019-10",
          "2019-11",
          "2019-12",
          "2020-01",
          "2020-02",
          "2020-03",
          "2020-04",
          "2020-05",
          "2020-06",
          "2020-07",
          "2020-08",
          "2020-09",
          "2020-10",
          "2020-11",
          "2020-12",
          "2021-01",
          "2021-02",
          "2021-03",
          "2021-04",
          "2021-05",
          "2021-06",
          "2021-07",
          "2021-08",
          "2021-09",
          "2021-10",
          "2021-11",
          "2021-12",
          "2022-01",
          "2022-02",
          "2022-03",
          "2022-04",
          "2022-05",
          "2022-06",
          "2022-07",
          "2022-08",
          "2022-09",
          "2022-10",
          "2022-11",
          "2022-12",
          "2023-01",
          "2023-02",
          "2023-03",
          "2023-04",
          "2023-05",
          "2023-06",
          "2023-07",
          "2023-08",
          "2023-09",
          "2023-10"
         ],
         "y": [
          107411.80999999998,
          357837.84,
          223909.6700000001,
          385088.33999999985,
          234667.61999999994,
          308253.4499999998,
          116020.20000000001,
          190417.24,
          457859.28,
          321751.4900000001,
          273249.2900000001,
          378770.7299999999,
          480702.5799999999,
          167209.18000000002,
          195430.91999999998,
          359334.71,
          326914.23,
          205919.29000000007,
          293412.23,
          144119.00999999998,
          608302.1100000001,
          315353.14,
          166437.69999999998,
          233901.10000000003,
          296859.01,
          520468.42999999976,
          90690.48999999999,
          232535.68000000002,
          279704.82,
          208428.90000000002,
          164456.02,
          169856.31000000006,
          187329.69,
          298554.26999999996,
          441479.58999999985,
          366004.62,
          413168.4599999999,
          398139.0399999999,
          366972.8400000001,
          210611.3000000001,
          211749.19999999998,
          611753.78,
          316600.7900000001,
          468235.5500000001,
          267334.0100000001,
          211042.21000000002,
          356568.9099999999,
          231677.57000000007,
          282757.72000000003,
          363397.0399999999,
          47133.38,
          259378.35,
          342954.9600000002,
          493018.17000000004,
          118220.785,
          211183.80999999997,
          341686.6900000001,
          168038.18000000005,
          483765.28,
          226752.65999999997,
          285722.6599999999,
          400140.55000000005,
          267382.56000000006,
          292174.28,
          228398.3400000001,
          258208.84499999994,
          504646.36,
          296365.2599999999,
          356403.98999999993,
          249927.48499999984,
          192713.26000000004,
          230396.25999999998,
          356081.18999999994,
          414538.95999999996,
          348658.69999999984,
          141901.95,
          381305.7400000001,
          373482.58000000013,
          121062.92000000003,
          225714.60000000003,
          219247.72999999995,
          259297.87999999998,
          391120.29000000004,
          171721.47,
          283551.08,
          170833.73,
          322839.82999999996,
          291127.54999999993,
          360539.04000000004,
          343660.68000000005,
          377785.78999999986,
          513874.3099999999,
          290227.8499999999,
          136456.84000000003,
          225550.42000000004,
          136307.34999999998,
          120284.65999999999,
          207526.94999999995,
          365001.42000000004,
          136615.81999999998,
          238000.03,
          286129.79000000004,
          336592.81,
          240671.76000000007,
          293930.73,
          256614.96000000002,
          261752.45999999996,
          175354.81999999998,
          428863.38999999984,
          127062.46999999997,
          169191.59999999998,
          212992.54000000004,
          519719.89000000013,
          375969.5999999999,
          299436.13,
          335185.81999999995,
          309148.8800000001,
          150975.17,
          402160.61,
          524418.8100000002,
          365056.0900000001,
          438944.47000000003,
          217736.65,
          338720.9799999999,
          156292.74,
          127546.90000000001,
          257043.01000000004,
          95019.79000000001,
          223431.50999999998,
          151948.81999999998,
          247733.59999999998,
          359269.2100000001,
          98464.38,
          310572.02000000014,
          385028.43,
          214977.36000000004
         ]
        },
        {
         "marker": {
          "color": "#3381ff"
         },
         "name": "Central America",
         "type": "bar",
         "x": [
          "2012-07",
          "2012-08",
          "2012-09",
          "2012-10",
          "2012-12",
          "2013-01",
          "2013-02",
          "2013-03",
          "2013-04",
          "2013-05",
          "2013-06",
          "2013-07",
          "2013-08",
          "2013-09",
          "2013-10",
          "2013-11",
          "2013-12",
          "2014-01",
          "2014-02",
          "2014-03",
          "2014-04",
          "2014-05",
          "2014-06",
          "2014-07",
          "2014-08",
          "2014-09",
          "2014-10",
          "2014-11",
          "2014-12",
          "2015-01",
          "2015-02",
          "2015-03",
          "2015-04",
          "2015-05",
          "2015-06",
          "2015-07",
          "2015-08",
          "2015-09",
          "2015-10",
          "2015-11",
          "2015-12",
          "2016-01",
          "2016-02",
          "2016-03",
          "2016-04",
          "2016-05",
          "2016-06",
          "2016-07",
          "2016-08",
          "2016-09",
          "2016-10",
          "2016-11",
          "2016-12",
          "2017-01",
          "2017-02",
          "2017-03",
          "2017-04",
          "2017-05",
          "2017-06",
          "2017-07",
          "2017-08",
          "2017-09",
          "2017-10",
          "2017-11",
          "2017-12",
          "2018-01",
          "2018-02",
          "2018-03",
          "2018-04",
          "2018-05",
          "2018-06",
          "2018-07",
          "2018-08",
          "2018-09",
          "2018-10",
          "2018-11",
          "2018-12",
          "2019-01",
          "2019-02",
          "2019-03",
          "2019-04",
          "2019-05",
          "2019-06",
          "2019-07",
          "2019-08",
          "2019-09",
          "2019-10",
          "2019-11",
          "2019-12",
          "2020-01",
          "2020-02",
          "2020-03",
          "2020-04",
          "2020-05",
          "2020-06",
          "2020-07",
          "2020-08",
          "2020-09",
          "2020-10",
          "2020-12",
          "2021-01",
          "2021-02",
          "2021-03",
          "2021-04",
          "2021-05",
          "2021-06",
          "2021-07",
          "2021-08",
          "2021-09",
          "2021-10",
          "2021-11",
          "2021-12",
          "2022-01",
          "2022-02",
          "2022-03",
          "2022-04",
          "2022-05",
          "2022-06",
          "2022-07",
          "2022-08",
          "2022-09",
          "2022-10",
          "2022-11",
          "2022-12",
          "2023-01",
          "2023-02",
          "2023-03",
          "2023-04",
          "2023-05",
          "2023-06",
          "2023-07",
          "2023-08",
          "2023-09",
          "2023-10"
         ],
         "y": [
          117527.23,
          91136.20000000001,
          207833.31000000003,
          173911.77000000002,
          142828.12,
          187107.62999999998,
          227320.46000000002,
          85684.41,
          285364.1099999999,
          181555.80999999997,
          125634.45999999998,
          218356.86999999994,
          84420.49,
          121417.87000000001,
          142343.08,
          42099.58,
          282823.9400000001,
          77292.52000000002,
          225157.99999999994,
          120819.17000000003,
          322226.4299999999,
          160148.58,
          286132.8999999999,
          13220.9,
          31229.050000000003,
          97036.04,
          250276.58999999988,
          96341.61,
          262441.38,
          337607.5999999999,
          306485.9100000001,
          360017.5900000002,
          118594.93000000001,
          362405.48,
          115323.28,
          196939.4,
          378148.6700000001,
          157923.37999999995,
          255149.91999999998,
          202781.04999999996,
          145836.02,
          264915.27,
          186365.4400000001,
          212625.14999999997,
          118170.05999999998,
          170814.27999999997,
          241123.46999999994,
          281431.14,
          261649.90000000002,
          202634.85000000003,
          32590.93,
          167694.58999999997,
          207822.88000000006,
          241338.50999999998,
          101168.27,
          59715.53,
          94417.83250000002,
          195377.62,
          97176.45,
          90555.61000000002,
          160173.18999999997,
          307674.33499999996,
          225291.30000000002,
          305141.73000000004,
          100799.44,
          170673.90999999997,
          187180.37000000002,
          181978.06999999995,
          227481.42000000004,
          144020.66,
          117270.6,
          204721.76999999996,
          286301.3799999999,
          108705.01000000001,
          145527.63000000003,
          122857.56999999996,
          315757.61000000004,
          166292.43999999997,
          389914,
          292284.35,
          186364.70999999996,
          137022.21,
          303331.3299999999,
          207553.09999999998,
          261322.30999999994,
          267332.59,
          215526.49,
          166248.44999999998,
          126424.27000000005,
          241364.84999999995,
          268586.20999999996,
          258113.59999999998,
          193577.43000000002,
          221173.5,
          97929.63999999998,
          195544.05000000005,
          39021.69,
          342860.19999999995,
          286443.6599999999,
          183207.58,
          53324.499999999985,
          50901.51,
          312444.0300000001,
          307624.56999999995,
          194168.68,
          186881.15,
          121962.78,
          227393.39,
          127909.13000000002,
          121283.93000000005,
          310643.82999999984,
          219565.99999999997,
          135620.75999999998,
          197437.17000000013,
          97664.83,
          116070.06,
          214315.17999999996,
          116338.53000000001,
          214386.5,
          182121.03000000003,
          133371.72999999998,
          267777.04000000004,
          119776.64,
          95323.91,
          127273.86999999998,
          147765.33,
          262404.02999999997,
          87857.69999999998,
          157370.54999999993,
          68694.83,
          140172.38000000006,
          27049.68,
          112271.4,
          363631.61
         ]
        },
        {
         "marker": {
          "color": "#3381ff"
         },
         "name": "Eastern Europe",
         "type": "bar",
         "x": [
          "2012-07",
          "2012-08",
          "2012-10",
          "2012-12",
          "2013-01",
          "2013-02",
          "2013-03",
          "2013-05",
          "2013-07",
          "2013-08",
          "2013-09",
          "2013-10",
          "2013-11",
          "2014-01",
          "2014-02",
          "2014-03",
          "2014-04",
          "2014-06",
          "2014-07",
          "2014-08",
          "2014-09",
          "2014-10",
          "2014-11",
          "2014-12",
          "2015-02",
          "2015-05",
          "2015-06",
          "2015-07",
          "2015-08",
          "2015-09",
          "2015-10",
          "2015-12",
          "2016-01",
          "2016-02",
          "2016-04",
          "2016-05",
          "2016-09",
          "2016-11",
          "2016-12",
          "2017-02",
          "2017-05",
          "2017-07",
          "2017-08",
          "2017-09",
          "2017-11",
          "2017-12",
          "2018-02",
          "2018-03",
          "2018-04",
          "2018-06",
          "2018-08",
          "2018-09",
          "2018-11",
          "2019-03",
          "2019-04",
          "2019-06",
          "2019-07",
          "2019-08",
          "2019-10",
          "2019-11",
          "2020-01",
          "2020-03",
          "2020-04",
          "2020-05",
          "2020-06",
          "2020-07",
          "2020-09",
          "2020-12",
          "2021-01",
          "2021-02",
          "2021-03",
          "2021-04",
          "2021-06",
          "2021-07",
          "2022-01",
          "2022-02",
          "2022-03",
          "2022-06",
          "2022-08",
          "2022-09",
          "2022-10",
          "2022-11",
          "2022-12",
          "2023-01",
          "2023-02",
          "2023-03",
          "2023-04",
          "2023-05",
          "2023-06",
          "2023-07",
          "2023-08",
          "2023-09",
          "2023-10"
         ],
         "y": [
          31950.799999999992,
          37874.05,
          16321.710000000001,
          65415.68,
          48829.049999999996,
          27181.21,
          144,
          48942.14999999999,
          15484.550000000001,
          41344.06999999999,
          26460.379999999997,
          5369.4800000000005,
          51833.83999999999,
          8066.55,
          16376.139999999998,
          49134.920000000006,
          28167.839999999997,
          83716.32,
          40501.12,
          97176,
          118229.08,
          90085.77,
          77197.11,
          28665.249999999996,
          16665.63,
          115245.77,
          104524.40999999997,
          47013.399999999994,
          51773.56,
          43196.88,
          64880.780000000006,
          57495.35,
          115607.90000000001,
          85459.29000000001,
          44825.630000000005,
          47325.259999999995,
          34069.4,
          7500.56,
          46665.03999999999,
          22941.190000000002,
          44959.08,
          13724.23,
          22774.420000000002,
          123435.43999999999,
          9276.7,
          86329.38,
          587.5,
          26127.809999999998,
          37203.100000000006,
          58679.22,
          78532.24999999999,
          74953.05,
          111287.9,
          41681.45999999999,
          61075.75000000001,
          45467.119999999995,
          63528.14999999999,
          54511.60999999999,
          52538.52,
          128707.75,
          88940.94000000002,
          2951.5,
          22165.629999999997,
          8358.51,
          24635.929999999997,
          67970.54999999999,
          101078.60999999999,
          10641.5,
          44758.70000000001,
          3076.8,
          36300.63,
          58118.52000000001,
          61675.91,
          72786.52999999998,
          83343.74999999999,
          33644.24,
          31075.859999999997,
          71836.38,
          61453.28,
          3415.3,
          2310.8999999999996,
          85210.67000000001,
          48408.369999999995,
          63918.97,
          51939.70999999999,
          157778.88000000006,
          45617.6,
          96921.65000000001,
          16226.66,
          38123.83,
          95897.13999999998,
          29936.26,
          22907.95
         ]
        },
        {
         "marker": {
          "color": "#3381ff"
         },
         "name": "North America",
         "type": "bar",
         "x": [
          "2012-07",
          "2012-08",
          "2012-09",
          "2012-10",
          "2012-11",
          "2012-12",
          "2013-01",
          "2013-02",
          "2013-03",
          "2013-04",
          "2013-05",
          "2013-06",
          "2013-07",
          "2013-08",
          "2013-09",
          "2013-10",
          "2013-11",
          "2013-12",
          "2014-01",
          "2014-02",
          "2014-03",
          "2014-04",
          "2014-05",
          "2014-06",
          "2014-07",
          "2014-08",
          "2014-09",
          "2014-10",
          "2014-11",
          "2014-12",
          "2015-01",
          "2015-02",
          "2015-03",
          "2015-04",
          "2015-05",
          "2015-06",
          "2015-07",
          "2015-08",
          "2015-09",
          "2015-10",
          "2015-11",
          "2015-12",
          "2016-01",
          "2016-02",
          "2016-03",
          "2016-04",
          "2016-05",
          "2016-06",
          "2016-07",
          "2016-08",
          "2016-09",
          "2016-10",
          "2016-11",
          "2016-12",
          "2017-01",
          "2017-02",
          "2017-03",
          "2017-04",
          "2017-05",
          "2017-06",
          "2017-07",
          "2017-08",
          "2017-09",
          "2017-10",
          "2017-11",
          "2017-12",
          "2018-01",
          "2018-02",
          "2018-03",
          "2018-04",
          "2018-05",
          "2018-06",
          "2018-07",
          "2018-08",
          "2018-09",
          "2018-10",
          "2018-11",
          "2018-12",
          "2019-01",
          "2019-02",
          "2019-03",
          "2019-04",
          "2019-05",
          "2019-06",
          "2019-07",
          "2019-08",
          "2019-09",
          "2019-10",
          "2019-11",
          "2019-12",
          "2020-01",
          "2020-02",
          "2020-03",
          "2020-04",
          "2020-05",
          "2020-06",
          "2020-07",
          "2020-08",
          "2020-09",
          "2020-10",
          "2020-11",
          "2020-12",
          "2021-01",
          "2021-02",
          "2021-03",
          "2021-04",
          "2021-05",
          "2021-06",
          "2021-07",
          "2021-08",
          "2021-09",
          "2021-10",
          "2021-11",
          "2021-12",
          "2022-01",
          "2022-02",
          "2022-03",
          "2022-04",
          "2022-05",
          "2022-06",
          "2022-07",
          "2022-08",
          "2022-09",
          "2022-10",
          "2022-11",
          "2022-12",
          "2023-01",
          "2023-02",
          "2023-03",
          "2023-04",
          "2023-05",
          "2023-06",
          "2023-07",
          "2023-08",
          "2023-09",
          "2023-10"
         ],
         "y": [
          244663.68999999997,
          501785.12000000005,
          555378.2100000001,
          491789.2999999999,
          439253.97,
          532079.4299999998,
          681912.1699999998,
          594806.3600000002,
          705910.02,
          730560.8200000002,
          799006.8399999999,
          726887.28,
          747315.8100000003,
          439805.2800000002,
          388629.3199999998,
          453761.61000000016,
          580994.7799999999,
          702931.1599999999,
          857797.2900000002,
          469628.9,
          573847.2099999998,
          657303.3400000003,
          563882.7599999999,
          599900.9000000001,
          646752.7100000001,
          625714.2700000003,
          695232.4200000003,
          543056.2000000001,
          574035.02,
          671119.9500000002,
          401681.0999999998,
          319924.3799999999,
          748905.0999999997,
          772574.1800000005,
          570676.08,
          253692.35999999996,
          776556.7300000006,
          928501.2400000002,
          597201.6699999999,
          303138.79,
          644052.4400000003,
          381239.31,
          505230.3800000001,
          652779.99,
          682676.01,
          496964.6899999999,
          549551.7400000001,
          643922.1700000002,
          591613.99,
          822776.2000000001,
          479426.11,
          621342.1749999999,
          488076.6099999999,
          599901.9400000001,
          419062.7099999999,
          435467.64499999996,
          507912.2549999998,
          472362.4400000001,
          697292.7200000001,
          736326.1400000001,
          477312.4899999999,
          612940.7599999998,
          413620.9499999999,
          752158.1024999999,
          871797.4599999998,
          442651.1,
          696009.8274999999,
          718083.0699999998,
          530097.9850000001,
          914372.4199999999,
          547167.9905,
          419285.72000000003,
          455388.41000000015,
          485066.4799999999,
          626239.99,
          630339.05,
          353322.35,
          634889.4900000001,
          735013.9000000001,
          181748.8099999999,
          500584.36999999965,
          225492.92,
          577153.77,
          669006.3699999999,
          670365.8799999997,
          362385.1199999999,
          635960.7099999996,
          720881.8400000003,
          533763.03,
          430760.53999999986,
          400872.1500000001,
          745447.9900000007,
          579639.7699999997,
          246884.08,
          806926.54,
          460324.5900000005,
          821957.3099999997,
          747910.8400000001,
          446322.4600000001,
          360219.25999999995,
          558656.3400000003,
          375725.60000000015,
          622239.2500000001,
          391159.4899999999,
          750859.5999999995,
          732710.1500000005,
          659330.2699999998,
          669012.45,
          566877.51,
          372985.83999999997,
          562185.2200000002,
          533459.3600000003,
          387174.57000000007,
          641255.6400000006,
          418695.8099999998,
          394769.68,
          357371.1499999999,
          559790.4700000004,
          539427.8599999998,
          560478.2900000002,
          651571.9700000001,
          444899.12999999983,
          426680.88,
          393478.4700000001,
          625504.6400000002,
          591336.5599999998,
          753418.5900000001,
          655852.8800000005,
          448332.4300000001,
          619910.3899999997,
          609979.0799999998,
          272037.51999999996,
          710319.6399999998,
          463343.14000000013,
          696070.67,
          449394.43
         ]
        },
        {
         "marker": {
          "color": "#3381ff"
         },
         "name": "Northern Europe",
         "type": "bar",
         "x": [
          "2012-07",
          "2012-08",
          "2012-09",
          "2012-10",
          "2012-11",
          "2012-12",
          "2013-01",
          "2013-02",
          "2013-03",
          "2013-04",
          "2013-05",
          "2013-06",
          "2013-07",
          "2013-08",
          "2013-09",
          "2013-10",
          "2013-11",
          "2013-12",
          "2014-01",
          "2014-02",
          "2014-03",
          "2014-04",
          "2014-05",
          "2014-06",
          "2014-07",
          "2014-08",
          "2014-09",
          "2014-10",
          "2014-11",
          "2014-12",
          "2015-01",
          "2015-02",
          "2015-03",
          "2015-04",
          "2015-05",
          "2015-06",
          "2015-07",
          "2015-08",
          "2015-09",
          "2015-10",
          "2015-11",
          "2015-12",
          "2016-01",
          "2016-02",
          "2016-03",
          "2016-04",
          "2016-05",
          "2016-06",
          "2016-07",
          "2016-08",
          "2016-09",
          "2016-10",
          "2016-11",
          "2016-12",
          "2017-01",
          "2017-02",
          "2017-03",
          "2017-04",
          "2017-05",
          "2017-06",
          "2017-07",
          "2017-08",
          "2017-09",
          "2017-10",
          "2017-11",
          "2017-12",
          "2018-01",
          "2018-02",
          "2018-03",
          "2018-04",
          "2018-05",
          "2018-06",
          "2018-07",
          "2018-08",
          "2018-09",
          "2018-10",
          "2018-11",
          "2018-12",
          "2019-01",
          "2019-02",
          "2019-03",
          "2019-04",
          "2019-05",
          "2019-06",
          "2019-07",
          "2019-08",
          "2019-09",
          "2019-10",
          "2019-11",
          "2019-12",
          "2020-01",
          "2020-02",
          "2020-03",
          "2020-04",
          "2020-05",
          "2020-06",
          "2020-07",
          "2020-08",
          "2020-09",
          "2020-10",
          "2020-11",
          "2020-12",
          "2021-01",
          "2021-02",
          "2021-03",
          "2021-04",
          "2021-05",
          "2021-06",
          "2021-07",
          "2021-08",
          "2021-09",
          "2021-10",
          "2021-11",
          "2021-12",
          "2022-01",
          "2022-02",
          "2022-03",
          "2022-04",
          "2022-05",
          "2022-06",
          "2022-07",
          "2022-08",
          "2022-09",
          "2022-10",
          "2022-11",
          "2022-12",
          "2023-01",
          "2023-02",
          "2023-03",
          "2023-04",
          "2023-05",
          "2023-06",
          "2023-07",
          "2023-08",
          "2023-09",
          "2023-10"
         ],
         "y": [
          72739.33000000002,
          257084.27999999997,
          147128.85999999996,
          155290.52,
          177592.44000000003,
          27102.110000000004,
          116682.41000000003,
          119448.18999999999,
          172435.65,
          180075.7499999999,
          140498.01000000004,
          81513.75000000001,
          205602.69999999998,
          351635.4000000001,
          71578.9,
          316028.46999999986,
          227476.17999999996,
          100797.06,
          90800.54000000001,
          85321.41,
          87486.87999999999,
          155436.56,
          224449.13999999996,
          174225.46000000005,
          128013.07000000005,
          69463.86,
          69982.4,
          199583.3599999999,
          65418.43000000001,
          320253.79,
          78084.93000000001,
          84199.96999999997,
          187395.17,
          88660.74999999999,
          246700.80999999994,
          274602.24000000005,
          296411.4199999999,
          184768.14999999997,
          138475.36000000002,
          150723.71,
          175771.72999999998,
          182141.28999999995,
          56483.75,
          76802.40000000002,
          97009.9,
          138357.82,
          137916.81000000006,
          166954.25,
          77457.165,
          9441.5,
          165130.28999999998,
          252311.21999999997,
          127348.56999999999,
          29587.969999999998,
          177699.70999999996,
          97707.20999999998,
          171437.27000000002,
          88125.57,
          166431.55999999997,
          42570.815,
          275411.0800000001,
          56216.549999999996,
          64141.289999999986,
          375833.1500000001,
          30032.03,
          174267.3275,
          241339.84249999997,
          144818.91999999998,
          143039.72,
          15844.687499999998,
          67093.95500000003,
          167956.80999999997,
          158335.60000000003,
          38081.15,
          115966.09000000003,
          78469.65,
          202632.33,
          114560.45000000003,
          80299.41000000002,
          279914.9699999999,
          109399.58999999998,
          162282.67999999996,
          47188.899999999994,
          83092.15,
          228173.80000000005,
          31039.190000000006,
          63651.13000000002,
          116824.62999999999,
          77613.52999999998,
          174305.78999999995,
          50278.36,
          91323.18999999999,
          116513.03,
          66855.27999999998,
          67638.49999999997,
          150909.01999999996,
          41602.36,
          323571.05000000005,
          178471.07,
          129866.93000000001,
          95663.95,
          257455.81999999995,
          187418.72999999998,
          175039.44000000003,
          224114.88000000003,
          204436.64999999994,
          44436.35999999999,
          196666.1200000001,
          195701.09000000003,
          167715.30000000008,
          237309.71,
          111286.99,
          163142.05000000005,
          206133.41,
          159082.17000000004,
          135763.62,
          147543.82,
          57469.979999999996,
          56211.310000000005,
          138387.12,
          114482.40000000001,
          113506.29000000001,
          88977.47000000002,
          57062.530000000006,
          115478.48999999998,
          258818.54,
          53551.50000000001,
          104082.56999999999,
          75236.83999999998,
          162352.61,
          96463.12999999999,
          11086.1,
          57587.66,
          371235.08999999997,
          61951.46,
          212513.25999999998
         ]
        },
        {
         "marker": {
          "color": "#3381ff"
         },
         "name": "South America",
         "type": "bar",
         "x": [
          "2012-07",
          "2012-08",
          "2012-09",
          "2012-10",
          "2012-11",
          "2012-12",
          "2013-01",
          "2013-02",
          "2013-03",
          "2013-04",
          "2013-05",
          "2013-06",
          "2013-07",
          "2013-08",
          "2013-09",
          "2013-10",
          "2013-11",
          "2013-12",
          "2014-01",
          "2014-02",
          "2014-03",
          "2014-04",
          "2014-05",
          "2014-06",
          "2014-07",
          "2014-08",
          "2014-09",
          "2014-10",
          "2014-11",
          "2014-12",
          "2015-01",
          "2015-02",
          "2015-03",
          "2015-04",
          "2015-05",
          "2015-06",
          "2015-07",
          "2015-08",
          "2015-09",
          "2015-10",
          "2015-11",
          "2015-12",
          "2016-01",
          "2016-02",
          "2016-03",
          "2016-04",
          "2016-05",
          "2016-06",
          "2016-07",
          "2016-08",
          "2016-09",
          "2016-10",
          "2016-11",
          "2016-12",
          "2017-01",
          "2017-02",
          "2017-03",
          "2017-04",
          "2017-05",
          "2017-06",
          "2017-07",
          "2017-08",
          "2017-09",
          "2017-10",
          "2017-11",
          "2017-12",
          "2018-01",
          "2018-02",
          "2018-03",
          "2018-04",
          "2018-05",
          "2018-06",
          "2018-07",
          "2018-08",
          "2018-09",
          "2018-10",
          "2018-11",
          "2018-12",
          "2019-01",
          "2019-02",
          "2019-03",
          "2019-04",
          "2019-05",
          "2019-06",
          "2019-07",
          "2019-08",
          "2019-09",
          "2019-10",
          "2019-11",
          "2019-12",
          "2020-01",
          "2020-02",
          "2020-03",
          "2020-04",
          "2020-05",
          "2020-06",
          "2020-07",
          "2020-08",
          "2020-09",
          "2020-10",
          "2020-11",
          "2020-12",
          "2021-01",
          "2021-02",
          "2021-03",
          "2021-04",
          "2021-05",
          "2021-06",
          "2021-07",
          "2021-08",
          "2021-09",
          "2021-10",
          "2021-11",
          "2021-12",
          "2022-01",
          "2022-02",
          "2022-03",
          "2022-04",
          "2022-05",
          "2022-06",
          "2022-07",
          "2022-08",
          "2022-09",
          "2022-10",
          "2022-11",
          "2022-12",
          "2023-01",
          "2023-02",
          "2023-03",
          "2023-04",
          "2023-05",
          "2023-06",
          "2023-07",
          "2023-08",
          "2023-09",
          "2023-10"
         ],
         "y": [
          497127.0100000001,
          569472.88,
          612618.3800000002,
          648776.5399999999,
          583382.03,
          941342.2199999997,
          419065.08999999985,
          544865.1599999996,
          470459.5100000001,
          426038.9699999999,
          644285.3700000001,
          372542.98,
          818855.7400000002,
          810343.4400000002,
          449491.3199999999,
          447538.7600000002,
          805711.4500000009,
          821278,
          298690.95999999996,
          303351.68000000017,
          519977.23,
          696068.2200000003,
          625168.5699999998,
          683470.6299999998,
          717152.5900000001,
          606431.2999999999,
          487141.0100000002,
          529776.0299999999,
          660551.3300000003,
          648459.4100000004,
          893810.0799999997,
          573494.4899999999,
          549208.56,
          562855.2000000003,
          436755.4199999999,
          641017.3400000003,
          475577.6399999999,
          581146.8500000001,
          585959.2000000002,
          880401.6699999996,
          577536.35,
          911260.5699999997,
          544387.2200000001,
          227621.69999999995,
          695758.38,
          566263.9199999998,
          585825.0500000002,
          600536.44,
          870178.5599999995,
          522485.18000000005,
          542378.1699999998,
          639160.8800000007,
          479798.8299999998,
          875764.5899999999,
          660679.7299999994,
          464086.25000000023,
          902460.1299999994,
          404060.1300000001,
          664775.5600000003,
          402607.5000000001,
          409758.89999999997,
          480557.6825000002,
          294111.195,
          478568.2650000001,
          589816.4600000001,
          700291.654,
          752978.8990000001,
          431649.18500000006,
          495618.88500000007,
          257584.9099999999,
          666868.8799999993,
          782582.6799999998,
          554727.8599999996,
          660897.5100000002,
          656844.4099999998,
          422185.09999999974,
          230751.64,
          536336.5999999999,
          758073.2500000002,
          543320.78,
          518181.86999999994,
          759052.7600000004,
          292764.32,
          466851.19999999984,
          525986.4500000001,
          598878.42,
          563553.8899999997,
          492363.68,
          419108.42,
          554215.89,
          661475.8799999998,
          473395.0499999999,
          517735.22999999975,
          537723.7100000004,
          330164.17999999993,
          447747.43999999977,
          672056.1699999998,
          811080.0200000003,
          512063.14999999997,
          580208.8500000003,
          664177.7900000003,
          287039.0500000001,
          608317.1999999998,
          763763.2599999997,
          346615.43999999994,
          484393.8099999997,
          427553.0099999999,
          606030.8400000001,
          719942.99,
          952536.5300000004,
          868662.33,
          737385.5699999998,
          692322.8100000005,
          933226.8100000005,
          631482.6399999997,
          310277.30999999994,
          510637.4300000001,
          380267.7000000001,
          706314.6799999998,
          414519.92999999993,
          427972.9599999998,
          435390.25,
          501123.30000000016,
          997008.8399999994,
          690061.49,
          691712.1499999998,
          482025.64999999997,
          513505.6900000001,
          800529.62,
          836794.8300000003,
          691997.3899999997,
          646382.69,
          438110.83,
          687457.2999999999,
          688437.8599999996,
          470863.29999999976
         ]
        },
        {
         "marker": {
          "color": "#3381ff"
         },
         "name": "Southern Europe",
         "type": "bar",
         "x": [
          "2012-07",
          "2012-08",
          "2012-09",
          "2012-10",
          "2012-11",
          "2012-12",
          "2013-01",
          "2013-02",
          "2013-03",
          "2013-04",
          "2013-05",
          "2013-06",
          "2013-07",
          "2013-08",
          "2013-09",
          "2013-10",
          "2013-11",
          "2013-12",
          "2014-01",
          "2014-02",
          "2014-03",
          "2014-04",
          "2014-05",
          "2014-06",
          "2014-07",
          "2014-08",
          "2014-09",
          "2014-10",
          "2014-11",
          "2014-12",
          "2015-01",
          "2015-02",
          "2015-03",
          "2015-04",
          "2015-05",
          "2015-06",
          "2015-07",
          "2015-08",
          "2015-09",
          "2015-10",
          "2015-11",
          "2015-12",
          "2016-01",
          "2016-02",
          "2016-03",
          "2016-04",
          "2016-05",
          "2016-06",
          "2016-07",
          "2016-08",
          "2016-09",
          "2016-10",
          "2016-11",
          "2016-12",
          "2017-01",
          "2017-02",
          "2017-03",
          "2017-04",
          "2017-05",
          "2017-06",
          "2017-07",
          "2017-08",
          "2017-09",
          "2017-10",
          "2017-11",
          "2017-12",
          "2018-01",
          "2018-02",
          "2018-03",
          "2018-04",
          "2018-05",
          "2018-06",
          "2018-07",
          "2018-08",
          "2018-09",
          "2018-10",
          "2018-11",
          "2018-12",
          "2019-01",
          "2019-02",
          "2019-03",
          "2019-04",
          "2019-05",
          "2019-06",
          "2019-07",
          "2019-08",
          "2019-09",
          "2019-10",
          "2019-11",
          "2019-12",
          "2020-01",
          "2020-02",
          "2020-03",
          "2020-04",
          "2020-05",
          "2020-06",
          "2020-07",
          "2020-08",
          "2020-09",
          "2020-10",
          "2020-11",
          "2020-12",
          "2021-01",
          "2021-02",
          "2021-03",
          "2021-04",
          "2021-05",
          "2021-06",
          "2021-07",
          "2021-08",
          "2021-09",
          "2021-10",
          "2021-11",
          "2021-12",
          "2022-01",
          "2022-02",
          "2022-03",
          "2022-04",
          "2022-05",
          "2022-06",
          "2022-07",
          "2022-08",
          "2022-09",
          "2022-10",
          "2022-11",
          "2022-12",
          "2023-01",
          "2023-02",
          "2023-03",
          "2023-04",
          "2023-05",
          "2023-06",
          "2023-07",
          "2023-08",
          "2023-09",
          "2023-10"
         ],
         "y": [
          267124.44,
          363652.55,
          370648.77,
          281261.21,
          423071.83999999997,
          364360.68,
          330863.13999999996,
          396330.38,
          182878.7,
          332920.6899999999,
          366927.6499999999,
          432798.3399999999,
          426076.60999999987,
          384792.8399999999,
          359071.75000000006,
          320839.9,
          227287.99999999994,
          254306.42,
          169818.33000000007,
          377924.0200000001,
          431680.31,
          368338.41000000015,
          201936.31000000003,
          344809.3499999999,
          586068.8500000001,
          337940.1300000001,
          164712.57,
          273231.65,
          222041.3500000001,
          311147.43000000005,
          423564.8299999998,
          446681.68000000005,
          253138.66999999998,
          332339.05,
          347020.82000000007,
          367164.01000000007,
          231624.46999999997,
          388350.37000000017,
          449591.3800000002,
          248189.30999999994,
          350902.55,
          350920.34,
          445032.0999999999,
          369130.68000000017,
          478263.5100000001,
          367689.13,
          289494.12000000005,
          471464.57,
          466323.0200000001,
          287953.63,
          450208.8399999998,
          446238.82,
          580966.12,
          271800.64999999997,
          440037.0600000002,
          219477.59,
          373192.51499999996,
          550739.9299999998,
          429175.32999999967,
          495517.18,
          248262.90000000002,
          397052.1249999999,
          282929.87749999994,
          223873.73,
          433747.3799999997,
          421575.9099999999,
          495499.05000000005,
          291134.8500000001,
          343290.48000000016,
          409357.5199999999,
          361982.2,
          233676.95,
          164812.48000000007,
          142419.97000000003,
          389071.15,
          118089.99,
          328570.37999999983,
          449128.72,
          425656.41000000003,
          228325.52000000002,
          253853.04999999996,
          427746.7,
          475673.2,
          264382.85,
          304305.1600000001,
          304600.3399999999,
          404030.8000000001,
          241009.26999999993,
          438335.20999999996,
          490202.4900000003,
          482614.8000000001,
          124452.18,
          205175.47,
          538012.58,
          456396.36999999994,
          489818.9899999998,
          404828.89,
          474470.83999999973,
          272159.74999999994,
          200964.58000000005,
          230137.41999999998,
          496621.1199999999,
          563162.2899999999,
          284024.50999999995,
          272209.1,
          324758.53,
          377309.25000000006,
          352956.35999999987,
          417157.5100000001,
          426753.7900000002,
          329066.6900000002,
          198606.13,
          446658.1,
          481016.0300000002,
          206544.05000000008,
          377997.47000000003,
          373212.16,
          444126.89999999985,
          555495.0800000002,
          234347.93000000008,
          327644.89,
          207482.21000000005,
          318943.87999999983,
          455354.05,
          377116.67,
          367543.12000000005,
          273291.89,
          186123.59000000003,
          247954.30999999994,
          257781.57000000007,
          362580.24999999994,
          279163.46,
          542730.5700000001,
          198251.44,
          388194.87,
          238786.63
         ]
        },
        {
         "marker": {
          "color": "#3381ff"
         },
         "name": "Western Europe",
         "type": "bar",
         "x": [
          "2012-07",
          "2012-08",
          "2012-09",
          "2012-10",
          "2012-11",
          "2012-12",
          "2013-01",
          "2013-02",
          "2013-03",
          "2013-04",
          "2013-05",
          "2013-06",
          "2013-07",
          "2013-08",
          "2013-09",
          "2013-10",
          "2013-11",
          "2013-12",
          "2014-01",
          "2014-02",
          "2014-03",
          "2014-04",
          "2014-05",
          "2014-06",
          "2014-07",
          "2014-08",
          "2014-09",
          "2014-10",
          "2014-11",
          "2014-12",
          "2015-01",
          "2015-02",
          "2015-03",
          "2015-04",
          "2015-05",
          "2015-06",
          "2015-07",
          "2015-08",
          "2015-09",
          "2015-10",
          "2015-11",
          "2015-12",
          "2016-01",
          "2016-02",
          "2016-03",
          "2016-04",
          "2016-05",
          "2016-06",
          "2016-07",
          "2016-08",
          "2016-09",
          "2016-10",
          "2016-11",
          "2016-12",
          "2017-01",
          "2017-02",
          "2017-03",
          "2017-04",
          "2017-05",
          "2017-06",
          "2017-07",
          "2017-08",
          "2017-09",
          "2017-10",
          "2017-11",
          "2017-12",
          "2018-01",
          "2018-02",
          "2018-03",
          "2018-04",
          "2018-05",
          "2018-06",
          "2018-07",
          "2018-08",
          "2018-09",
          "2018-10",
          "2018-11",
          "2018-12",
          "2019-01",
          "2019-02",
          "2019-03",
          "2019-04",
          "2019-05",
          "2019-06",
          "2019-07",
          "2019-08",
          "2019-09",
          "2019-10",
          "2019-11",
          "2019-12",
          "2020-01",
          "2020-02",
          "2020-03",
          "2020-04",
          "2020-05",
          "2020-06",
          "2020-07",
          "2020-08",
          "2020-09",
          "2020-10",
          "2020-11",
          "2020-12",
          "2021-01",
          "2021-02",
          "2021-03",
          "2021-04",
          "2021-05",
          "2021-06",
          "2021-07",
          "2021-08",
          "2021-09",
          "2021-10",
          "2021-11",
          "2021-12",
          "2022-01",
          "2022-02",
          "2022-03",
          "2022-04",
          "2022-05",
          "2022-06",
          "2022-07",
          "2022-08",
          "2022-09",
          "2022-10",
          "2022-11",
          "2022-12",
          "2023-01",
          "2023-02",
          "2023-03",
          "2023-04",
          "2023-05",
          "2023-06",
          "2023-07",
          "2023-08",
          "2023-09",
          "2023-10"
         ],
         "y": [
          651753.2699999999,
          1236821.8200000005,
          1067630.9899999998,
          843258.7899999998,
          1050127.4700000004,
          1140497.56,
          1044497.3599999994,
          701728.2099999997,
          1129662.4700000004,
          766551.7400000002,
          868532.53,
          755018.44,
          1084936.0099999995,
          523149.4599999999,
          970354.8200000005,
          906734.8500000002,
          692970.7699999993,
          683620.1099999999,
          811770.1100000001,
          769791.0800000003,
          1187290.34,
          728683.8300000001,
          1196963.0399999993,
          992857.5899999997,
          633412.6199999999,
          1013020.68,
          785708.2800000005,
          707308.95,
          1044484.8600000005,
          1064931.9600000002,
          845173.8499999994,
          903948.5500000004,
          838145.9199999998,
          873951.8300000004,
          784142.0700000001,
          660512.2299999996,
          1152944.0099999995,
          1318805.1999999997,
          951932.9700000007,
          1095002.439999999,
          998830.9700000006,
          1037556.3600000005,
          1159540.1599999997,
          1041554.7400000005,
          1057726.6999999997,
          940711.3700000006,
          1158349.4000000001,
          810472.889999999,
          982996.4600000005,
          734503.0350000003,
          1140628.2999999993,
          892979.2099999998,
          804669.7949999998,
          1048725.9,
          1054801.7349999996,
          965785.7300000003,
          1223201.6899999995,
          997096.3200000002,
          1560503.22,
          813759.5075000002,
          870760.8375,
          1017390.9125000002,
          944761.0050000002,
          1181490.6185000003,
          933905.3664999998,
          1038640.7720000005,
          1090785.001500001,
          724128.0825000001,
          544064.4650000001,
          921480.2600000008,
          1156870.6350000005,
          1122991.9400000002,
          907946.8700000002,
          1041880.0700000004,
          956376.3599999993,
          1001124.5900000005,
          1239697.2199999997,
          948322.3200000002,
          635511.99,
          883632.1000000002,
          1048926.5299999998,
          1286512.079999999,
          1120273.0599999994,
          1095578.5900000003,
          792178.4699999995,
          1195986.0599999991,
          705721.99,
          1063592.5800000005,
          582048.6100000005,
          1250206.1199999996,
          1069217.8299999998,
          1098825.4799999993,
          919325.2500000001,
          778114.4100000004,
          943634.5800000002,
          949112.7699999998,
          1189119.3000000012,
          962637.8299999997,
          1341821.9999999993,
          1183937.749999999,
          979493.0100000001,
          990459.0400000002,
          982422.1799999998,
          907986.6100000005,
          963685.6199999996,
          740904.1600000004,
          1026532.0200000003,
          1137804.3499999992,
          1218056.0400000003,
          950849.0800000008,
          814908.6300000001,
          1037002.1100000006,
          697307.7699999998,
          1399552.9900000002,
          1491293.6500000022,
          824972.8800000001,
          1029549.2800000008,
          782903.0900000004,
          1090740.3699999996,
          1085177.1199999994,
          970618.7399999995,
          1490923.7300000023,
          677965.8999999999,
          865699.9599999995,
          1193608.7399999995,
          1150622.6699999992,
          1093051.76,
          731624.4600000004,
          1248580.890000001,
          1073278.5299999996,
          1318292.4999999998,
          1166373.6699999995,
          1201600.3200000003,
          959138.1199999994,
          904301.4099999999,
          837669.0200000003
         ]
        },
        {
         "marker": {
          "color": "#3381ff"
         },
         "name": "Scandinavia",
         "type": "bar",
         "x": [
          "2012-08",
          "2012-09",
          "2012-10",
          "2012-11",
          "2012-12",
          "2013-01",
          "2013-02",
          "2013-03",
          "2013-04",
          "2013-05",
          "2013-06",
          "2013-07",
          "2013-08",
          "2013-09",
          "2013-10",
          "2013-11",
          "2013-12",
          "2014-01",
          "2014-02",
          "2014-03",
          "2014-04",
          "2014-05",
          "2014-06",
          "2014-07",
          "2014-08",
          "2014-09",
          "2014-10",
          "2014-11",
          "2014-12",
          "2015-01",
          "2015-02",
          "2015-03",
          "2015-04",
          "2015-05",
          "2015-06",
          "2015-07",
          "2015-08",
          "2015-09",
          "2015-10",
          "2015-11",
          "2015-12",
          "2016-01",
          "2016-02",
          "2016-03",
          "2016-04",
          "2016-05",
          "2016-06",
          "2016-07",
          "2016-08",
          "2016-09",
          "2016-10",
          "2016-11",
          "2016-12",
          "2017-01",
          "2017-02",
          "2017-03",
          "2017-04",
          "2017-05",
          "2017-06",
          "2017-07",
          "2017-08",
          "2017-09",
          "2017-10",
          "2017-11",
          "2017-12",
          "2018-01",
          "2018-02",
          "2018-03",
          "2018-04",
          "2018-05",
          "2018-06",
          "2018-07",
          "2018-08",
          "2018-09",
          "2018-10",
          "2018-12",
          "2019-01",
          "2019-02",
          "2019-03",
          "2019-04",
          "2019-05",
          "2019-06",
          "2019-07",
          "2019-08",
          "2019-09",
          "2019-10",
          "2019-11",
          "2019-12",
          "2020-01",
          "2020-02",
          "2020-03",
          "2020-04",
          "2020-06",
          "2020-07",
          "2020-08",
          "2020-09",
          "2020-11",
          "2020-12",
          "2021-01",
          "2021-02",
          "2021-03",
          "2021-04",
          "2021-05",
          "2021-06",
          "2021-07",
          "2021-08",
          "2021-09",
          "2021-10",
          "2021-11",
          "2021-12",
          "2022-01",
          "2022-02",
          "2022-03",
          "2022-04",
          "2022-05",
          "2022-06",
          "2022-07",
          "2022-08",
          "2022-09",
          "2022-10",
          "2022-11",
          "2022-12",
          "2023-02",
          "2023-03",
          "2023-04",
          "2023-05",
          "2023-06",
          "2023-07",
          "2023-08",
          "2023-09",
          "2023-10"
         ],
         "y": [
          70376.52,
          173354.40999999997,
          68079.02,
          54878.149999999994,
          9664.7,
          56597.189999999995,
          97621.48000000004,
          190403.33,
          124955.62,
          160755.46999999997,
          19904.19,
          178765.97999999998,
          73690.68000000001,
          37696.36,
          42698.94,
          42845.29999999999,
          140796.72999999998,
          40153.69999999999,
          77688.76000000001,
          251162.74,
          45948.08999999999,
          89736.48,
          112184.15000000001,
          82133.01999999999,
          107286.71000000002,
          117338.18999999999,
          162507.31999999998,
          137142.06999999995,
          190366.98999999993,
          196771.58999999997,
          54210.49999999999,
          119078.78999999998,
          111241.20999999999,
          85280.89,
          53914.20999999999,
          46237.29,
          116305.33,
          99340.20999999998,
          140218.58999999997,
          65998.01,
          202542.11000000002,
          87546.46,
          43162.99,
          72421.41999999998,
          27819.420000000006,
          86179.40000000001,
          60892.21000000001,
          70908.15,
          154383,
          170093.25000000006,
          91038.67,
          40564,
          36428.100000000006,
          236494.65999999997,
          23894.01,
          118663.81000000001,
          193582.46,
          31404.060000000005,
          157613.99000000002,
          152304.02000000005,
          161516.86999999997,
          109311.1,
          322053.27999999997,
          121838.2325,
          104601.49000000002,
          61776.03,
          121648.71,
          48913.8,
          3675.35,
          102689.99999999999,
          74827.69,
          30886.25,
          134568.16999999998,
          32277.4,
          158567.51999999996,
          91259.68999999999,
          132098.11,
          141167.78,
          56178.39000000001,
          97659.30000000005,
          375878.22000000015,
          142022.08,
          61087.41000000001,
          59629.48,
          69437.30000000002,
          34427.87,
          40303.77,
          12106.39,
          51223.69,
          19620.83,
          90337.20999999999,
          79471.72999999998,
          61900.45999999999,
          59664.92,
          167722.78000000006,
          74527.12999999999,
          143078.34999999998,
          120441.41999999997,
          76040.40000000001,
          104876.10000000002,
          233163.94999999998,
          34531.95,
          266031.8,
          124331.08000000002,
          147467.19999999995,
          148098.62999999998,
          23633.890000000003,
          49565.28,
          50991.869999999995,
          107719.95999999999,
          127501.02000000002,
          130616.62000000001,
          221916.86000000002,
          111403.80000000002,
          124506.12000000001,
          90735.33000000002,
          193197.4700000001,
          151909.34999999995,
          153933.44,
          227066.59000000003,
          85206.61999999997,
          110399.77000000002,
          53825.56999999999,
          180188.83000000007,
          51328.31,
          179077.53,
          74719.7,
          32775.75,
          117570.31999999999,
          183821.20999999996,
          59443.80999999999
         ]
        }
       ],
       "layout": {
        "hoverlabel": {
         "font": {
          "size": 8.8
         }
        },
        "plot_bgcolor": "white",
        "template": {
         "data": {
          "bar": [
           {
            "error_x": {
             "color": "#2a3f5f"
            },
            "error_y": {
             "color": "#2a3f5f"
            },
            "marker": {
             "line": {
              "color": "white",
              "width": 0.5
             },
             "pattern": {
              "fillmode": "overlay",
              "size": 10,
              "solidity": 0.2
             }
            },
            "type": "bar"
           }
          ],
          "barpolar": [
           {
            "marker": {
             "line": {
              "color": "white",
              "width": 0.5
             },
             "pattern": {
              "fillmode": "overlay",
              "size": 10,
              "solidity": 0.2
             }
            },
            "type": "barpolar"
           }
          ],
          "carpet": [
           {
            "aaxis": {
             "endlinecolor": "#2a3f5f",
             "gridcolor": "#C8D4E3",
             "linecolor": "#C8D4E3",
             "minorgridcolor": "#C8D4E3",
             "startlinecolor": "#2a3f5f"
            },
            "baxis": {
             "endlinecolor": "#2a3f5f",
             "gridcolor": "#C8D4E3",
             "linecolor": "#C8D4E3",
             "minorgridcolor": "#C8D4E3",
             "startlinecolor": "#2a3f5f"
            },
            "type": "carpet"
           }
          ],
          "choropleth": [
           {
            "colorbar": {
             "outlinewidth": 0,
             "ticks": ""
            },
            "type": "choropleth"
           }
          ],
          "contour": [
           {
            "colorbar": {
             "outlinewidth": 0,
             "ticks": ""
            },
            "colorscale": [
             [
              0,
              "#0d0887"
             ],
             [
              0.1111111111111111,
              "#46039f"
             ],
             [
              0.2222222222222222,
              "#7201a8"
             ],
             [
              0.3333333333333333,
              "#9c179e"
             ],
             [
              0.4444444444444444,
              "#bd3786"
             ],
             [
              0.5555555555555556,
              "#d8576b"
             ],
             [
              0.6666666666666666,
              "#ed7953"
             ],
             [
              0.7777777777777778,
              "#fb9f3a"
             ],
             [
              0.8888888888888888,
              "#fdca26"
             ],
             [
              1,
              "#f0f921"
             ]
            ],
            "type": "contour"
           }
          ],
          "contourcarpet": [
           {
            "colorbar": {
             "outlinewidth": 0,
             "ticks": ""
            },
            "type": "contourcarpet"
           }
          ],
          "heatmap": [
           {
            "colorbar": {
             "outlinewidth": 0,
             "ticks": ""
            },
            "colorscale": [
             [
              0,
              "#0d0887"
             ],
             [
              0.1111111111111111,
              "#46039f"
             ],
             [
              0.2222222222222222,
              "#7201a8"
             ],
             [
              0.3333333333333333,
              "#9c179e"
             ],
             [
              0.4444444444444444,
              "#bd3786"
             ],
             [
              0.5555555555555556,
              "#d8576b"
             ],
             [
              0.6666666666666666,
              "#ed7953"
             ],
             [
              0.7777777777777778,
              "#fb9f3a"
             ],
             [
              0.8888888888888888,
              "#fdca26"
             ],
             [
              1,
              "#f0f921"
             ]
            ],
            "type": "heatmap"
           }
          ],
          "heatmapgl": [
           {
            "colorbar": {
             "outlinewidth": 0,
             "ticks": ""
            },
            "colorscale": [
             [
              0,
              "#0d0887"
             ],
             [
              0.1111111111111111,
              "#46039f"
             ],
             [
              0.2222222222222222,
              "#7201a8"
             ],
             [
              0.3333333333333333,
              "#9c179e"
             ],
             [
              0.4444444444444444,
              "#bd3786"
             ],
             [
              0.5555555555555556,
              "#d8576b"
             ],
             [
              0.6666666666666666,
              "#ed7953"
             ],
             [
              0.7777777777777778,
              "#fb9f3a"
             ],
             [
              0.8888888888888888,
              "#fdca26"
             ],
             [
              1,
              "#f0f921"
             ]
            ],
            "type": "heatmapgl"
           }
          ],
          "histogram": [
           {
            "marker": {
             "pattern": {
              "fillmode": "overlay",
              "size": 10,
              "solidity": 0.2
             }
            },
            "type": "histogram"
           }
          ],
          "histogram2d": [
           {
            "colorbar": {
             "outlinewidth": 0,
             "ticks": ""
            },
            "colorscale": [
             [
              0,
              "#0d0887"
             ],
             [
              0.1111111111111111,
              "#46039f"
             ],
             [
              0.2222222222222222,
              "#7201a8"
             ],
             [
              0.3333333333333333,
              "#9c179e"
             ],
             [
              0.4444444444444444,
              "#bd3786"
             ],
             [
              0.5555555555555556,
              "#d8576b"
             ],
             [
              0.6666666666666666,
              "#ed7953"
             ],
             [
              0.7777777777777778,
              "#fb9f3a"
             ],
             [
              0.8888888888888888,
              "#fdca26"
             ],
             [
              1,
              "#f0f921"
             ]
            ],
            "type": "histogram2d"
           }
          ],
          "histogram2dcontour": [
           {
            "colorbar": {
             "outlinewidth": 0,
             "ticks": ""
            },
            "colorscale": [
             [
              0,
              "#0d0887"
             ],
             [
              0.1111111111111111,
              "#46039f"
             ],
             [
              0.2222222222222222,
              "#7201a8"
             ],
             [
              0.3333333333333333,
              "#9c179e"
             ],
             [
              0.4444444444444444,
              "#bd3786"
             ],
             [
              0.5555555555555556,
              "#d8576b"
             ],
             [
              0.6666666666666666,
              "#ed7953"
             ],
             [
              0.7777777777777778,
              "#fb9f3a"
             ],
             [
              0.8888888888888888,
              "#fdca26"
             ],
             [
              1,
              "#f0f921"
             ]
            ],
            "type": "histogram2dcontour"
           }
          ],
          "mesh3d": [
           {
            "colorbar": {
             "outlinewidth": 0,
             "ticks": ""
            },
            "type": "mesh3d"
           }
          ],
          "parcoords": [
           {
            "line": {
             "colorbar": {
              "outlinewidth": 0,
              "ticks": ""
             }
            },
            "type": "parcoords"
           }
          ],
          "pie": [
           {
            "automargin": true,
            "type": "pie"
           }
          ],
          "scatter": [
           {
            "fillpattern": {
             "fillmode": "overlay",
             "size": 10,
             "solidity": 0.2
            },
            "type": "scatter"
           }
          ],
          "scatter3d": [
           {
            "line": {
             "colorbar": {
              "outlinewidth": 0,
              "ticks": ""
             }
            },
            "marker": {
             "colorbar": {
              "outlinewidth": 0,
              "ticks": ""
             }
            },
            "type": "scatter3d"
           }
          ],
          "scattercarpet": [
           {
            "marker": {
             "colorbar": {
              "outlinewidth": 0,
              "ticks": ""
             }
            },
            "type": "scattercarpet"
           }
          ],
          "scattergeo": [
           {
            "marker": {
             "colorbar": {
              "outlinewidth": 0,
              "ticks": ""
             }
            },
            "type": "scattergeo"
           }
          ],
          "scattergl": [
           {
            "marker": {
             "colorbar": {
              "outlinewidth": 0,
              "ticks": ""
             }
            },
            "type": "scattergl"
           }
          ],
          "scattermapbox": [
           {
            "marker": {
             "colorbar": {
              "outlinewidth": 0,
              "ticks": ""
             }
            },
            "type": "scattermapbox"
           }
          ],
          "scatterpolar": [
           {
            "marker": {
             "colorbar": {
              "outlinewidth": 0,
              "ticks": ""
             }
            },
            "type": "scatterpolar"
           }
          ],
          "scatterpolargl": [
           {
            "marker": {
             "colorbar": {
              "outlinewidth": 0,
              "ticks": ""
             }
            },
            "type": "scatterpolargl"
           }
          ],
          "scatterternary": [
           {
            "marker": {
             "colorbar": {
              "outlinewidth": 0,
              "ticks": ""
             }
            },
            "type": "scatterternary"
           }
          ],
          "surface": [
           {
            "colorbar": {
             "outlinewidth": 0,
             "ticks": ""
            },
            "colorscale": [
             [
              0,
              "#0d0887"
             ],
             [
              0.1111111111111111,
              "#46039f"
             ],
             [
              0.2222222222222222,
              "#7201a8"
             ],
             [
              0.3333333333333333,
              "#9c179e"
             ],
             [
              0.4444444444444444,
              "#bd3786"
             ],
             [
              0.5555555555555556,
              "#d8576b"
             ],
             [
              0.6666666666666666,
              "#ed7953"
             ],
             [
              0.7777777777777778,
              "#fb9f3a"
             ],
             [
              0.8888888888888888,
              "#fdca26"
             ],
             [
              1,
              "#f0f921"
             ]
            ],
            "type": "surface"
           }
          ],
          "table": [
           {
            "cells": {
             "fill": {
              "color": "#EBF0F8"
             },
             "line": {
              "color": "white"
             }
            },
            "header": {
             "fill": {
              "color": "#C8D4E3"
             },
             "line": {
              "color": "white"
             }
            },
            "type": "table"
           }
          ]
         },
         "layout": {
          "annotationdefaults": {
           "arrowcolor": "#2a3f5f",
           "arrowhead": 0,
           "arrowwidth": 1
          },
          "autotypenumbers": "strict",
          "coloraxis": {
           "colorbar": {
            "outlinewidth": 0,
            "ticks": ""
           }
          },
          "colorscale": {
           "diverging": [
            [
             0,
             "#8e0152"
            ],
            [
             0.1,
             "#c51b7d"
            ],
            [
             0.2,
             "#de77ae"
            ],
            [
             0.3,
             "#f1b6da"
            ],
            [
             0.4,
             "#fde0ef"
            ],
            [
             0.5,
             "#f7f7f7"
            ],
            [
             0.6,
             "#e6f5d0"
            ],
            [
             0.7,
             "#b8e186"
            ],
            [
             0.8,
             "#7fbc41"
            ],
            [
             0.9,
             "#4d9221"
            ],
            [
             1,
             "#276419"
            ]
           ],
           "sequential": [
            [
             0,
             "#0d0887"
            ],
            [
             0.1111111111111111,
             "#46039f"
            ],
            [
             0.2222222222222222,
             "#7201a8"
            ],
            [
             0.3333333333333333,
             "#9c179e"
            ],
            [
             0.4444444444444444,
             "#bd3786"
            ],
            [
             0.5555555555555556,
             "#d8576b"
            ],
            [
             0.6666666666666666,
             "#ed7953"
            ],
            [
             0.7777777777777778,
             "#fb9f3a"
            ],
            [
             0.8888888888888888,
             "#fdca26"
            ],
            [
             1,
             "#f0f921"
            ]
           ],
           "sequentialminus": [
            [
             0,
             "#0d0887"
            ],
            [
             0.1111111111111111,
             "#46039f"
            ],
            [
             0.2222222222222222,
             "#7201a8"
            ],
            [
             0.3333333333333333,
             "#9c179e"
            ],
            [
             0.4444444444444444,
             "#bd3786"
            ],
            [
             0.5555555555555556,
             "#d8576b"
            ],
            [
             0.6666666666666666,
             "#ed7953"
            ],
            [
             0.7777777777777778,
             "#fb9f3a"
            ],
            [
             0.8888888888888888,
             "#fdca26"
            ],
            [
             1,
             "#f0f921"
            ]
           ]
          },
          "colorway": [
           "#636efa",
           "#EF553B",
           "#00cc96",
           "#ab63fa",
           "#FFA15A",
           "#19d3f3",
           "#FF6692",
           "#B6E880",
           "#FF97FF",
           "#FECB52"
          ],
          "font": {
           "color": "#2a3f5f"
          },
          "geo": {
           "bgcolor": "white",
           "lakecolor": "white",
           "landcolor": "white",
           "showlakes": true,
           "showland": true,
           "subunitcolor": "#C8D4E3"
          },
          "hoverlabel": {
           "align": "left"
          },
          "hovermode": "closest",
          "mapbox": {
           "style": "light"
          },
          "paper_bgcolor": "white",
          "plot_bgcolor": "white",
          "polar": {
           "angularaxis": {
            "gridcolor": "#EBF0F8",
            "linecolor": "#EBF0F8",
            "ticks": ""
           },
           "bgcolor": "white",
           "radialaxis": {
            "gridcolor": "#EBF0F8",
            "linecolor": "#EBF0F8",
            "ticks": ""
           }
          },
          "scene": {
           "xaxis": {
            "backgroundcolor": "white",
            "gridcolor": "#DFE8F3",
            "gridwidth": 2,
            "linecolor": "#EBF0F8",
            "showbackground": true,
            "ticks": "",
            "zerolinecolor": "#EBF0F8"
           },
           "yaxis": {
            "backgroundcolor": "white",
            "gridcolor": "#DFE8F3",
            "gridwidth": 2,
            "linecolor": "#EBF0F8",
            "showbackground": true,
            "ticks": "",
            "zerolinecolor": "#EBF0F8"
           },
           "zaxis": {
            "backgroundcolor": "white",
            "gridcolor": "#DFE8F3",
            "gridwidth": 2,
            "linecolor": "#EBF0F8",
            "showbackground": true,
            "ticks": "",
            "zerolinecolor": "#EBF0F8"
           }
          },
          "shapedefaults": {
           "line": {
            "color": "#2a3f5f"
           }
          },
          "ternary": {
           "aaxis": {
            "gridcolor": "#DFE8F3",
            "linecolor": "#A2B1C6",
            "ticks": ""
           },
           "baxis": {
            "gridcolor": "#DFE8F3",
            "linecolor": "#A2B1C6",
            "ticks": ""
           },
           "bgcolor": "white",
           "caxis": {
            "gridcolor": "#DFE8F3",
            "linecolor": "#A2B1C6",
            "ticks": ""
           }
          },
          "title": {
           "x": 0.05
          },
          "xaxis": {
           "automargin": true,
           "gridcolor": "#EBF0F8",
           "linecolor": "#EBF0F8",
           "ticks": "",
           "title": {
            "standoff": 15
           },
           "zerolinecolor": "#EBF0F8",
           "zerolinewidth": 2
          },
          "yaxis": {
           "automargin": true,
           "gridcolor": "#EBF0F8",
           "linecolor": "#EBF0F8",
           "ticks": "",
           "title": {
            "standoff": 15
           },
           "zerolinecolor": "#EBF0F8",
           "zerolinewidth": 2
          }
         }
        },
        "title": {
         "font": {
          "size": 13.2
         },
         "text": "Monthly Sales Revenue by Region"
        },
        "updatemenus": [
         {
          "active": 0,
          "buttons": [
           {
            "args": [
             {
              "visible": [
               true,
               true,
               true,
               true,
               true,
               true,
               true,
               true,
               true
              ]
             },
             {
              "title": "Monthly Sales Revenue by Region"
             }
            ],
            "label": "All Regions",
            "method": "update"
           },
           {
            "args": [
             {
              "visible": [
               true,
               false,
               false,
               false,
               false,
               false,
               false,
               false,
               false
              ]
             },
             {
              "title": "Monthly Sales Revenue for British Isles"
             }
            ],
            "label": "British Isles",
            "method": "update"
           },
           {
            "args": [
             {
              "visible": [
               false,
               true,
               false,
               false,
               false,
               false,
               false,
               false,
               false
              ]
             },
             {
              "title": "Monthly Sales Revenue for Central America"
             }
            ],
            "label": "Central America",
            "method": "update"
           },
           {
            "args": [
             {
              "visible": [
               false,
               false,
               true,
               false,
               false,
               false,
               false,
               false,
               false
              ]
             },
             {
              "title": "Monthly Sales Revenue for Eastern Europe"
             }
            ],
            "label": "Eastern Europe",
            "method": "update"
           },
           {
            "args": [
             {
              "visible": [
               false,
               false,
               false,
               true,
               false,
               false,
               false,
               false,
               false
              ]
             },
             {
              "title": "Monthly Sales Revenue for North America"
             }
            ],
            "label": "North America",
            "method": "update"
           },
           {
            "args": [
             {
              "visible": [
               false,
               false,
               false,
               false,
               true,
               false,
               false,
               false,
               false
              ]
             },
             {
              "title": "Monthly Sales Revenue for Northern Europe"
             }
            ],
            "label": "Northern Europe",
            "method": "update"
           },
           {
            "args": [
             {
              "visible": [
               false,
               false,
               false,
               false,
               false,
               true,
               false,
               false,
               false
              ]
             },
             {
              "title": "Monthly Sales Revenue for South America"
             }
            ],
            "label": "South America",
            "method": "update"
           },
           {
            "args": [
             {
              "visible": [
               false,
               false,
               false,
               false,
               false,
               false,
               true,
               false,
               false
              ]
             },
             {
              "title": "Monthly Sales Revenue for Southern Europe"
             }
            ],
            "label": "Southern Europe",
            "method": "update"
           },
           {
            "args": [
             {
              "visible": [
               false,
               false,
               false,
               false,
               false,
               false,
               false,
               true,
               false
              ]
             },
             {
              "title": "Monthly Sales Revenue for Western Europe"
             }
            ],
            "label": "Western Europe",
            "method": "update"
           },
           {
            "args": [
             {
              "visible": [
               false,
               false,
               false,
               false,
               false,
               false,
               false,
               false,
               true
              ]
             },
             {
              "title": "Monthly Sales Revenue for Scandinavia"
             }
            ],
            "label": "Scandinavia",
            "method": "update"
           }
          ]
         }
        ],
        "xaxis": {
         "linecolor": "black",
         "linewidth": 0.65,
         "tickfont": {
          "size": 8.8
         },
         "title": {
          "text": "Month"
         }
        },
        "yaxis": {
         "linecolor": "black",
         "linewidth": 0.65,
         "tickfont": {
          "size": 8.8
         },
         "title": {
          "text": "Sales Revenue"
         }
        }
       }
      }
     },
     "metadata": {},
     "output_type": "display_data"
    }
   ],
   "source": [
    "sql_data_analyst.get_plotly_graph()"
   ]
  },
  {
   "cell_type": "markdown",
   "metadata": {},
   "source": [
    "![Sales Trends](../img/sales_trends_by_territory.jpg)"
   ]
  },
  {
   "cell_type": "markdown",
   "metadata": {},
   "source": [
    "# Want To Become A Full-Stack Generative AI Data Scientist?\n",
    "\n",
    "![Generative AI Data Scientist](../../img/become_a_generative_ai_data_scientist.jpg)\n",
    "\n",
    "I teach Generative AI Data Science to help you build AI-powered data science apps. [**Register for my next Generative AI for Data Scientists workshop here.**](https://learn.business-science.io/ai-register)"
   ]
  }
 ],
 "metadata": {
  "kernelspec": {
   "display_name": "ds4b_301p_dev",
   "language": "python",
   "name": "python3"
  },
  "language_info": {
   "codemirror_mode": {
    "name": "ipython",
    "version": 3
   },
   "file_extension": ".py",
   "mimetype": "text/x-python",
   "name": "python",
   "nbconvert_exporter": "python",
   "pygments_lexer": "ipython3",
   "version": "3.10.13"
  }
 },
 "nbformat": 4,
 "nbformat_minor": 2
}
