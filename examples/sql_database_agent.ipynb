{
 "cells": [
  {
   "cell_type": "markdown",
   "metadata": {},
   "source": [
    "# How to Automate SQL Database Queries with AI\n",
    "\n",
    "In this tutorial, we will learn how to automate SQL database queries with the SQL Database Agent. You will learn how to:\n",
    "\n",
    "- Connect to a SQL database\n",
    "- Have AI write SQL queries for you from natural language\n",
    "- Automate the SQL query execution\n",
    "- Retrieve the results\n",
    "\n",
    "\n",
    "\n",
    "### Want To Become A Full-Stack Generative AI Data Scientist?\n",
    "\n",
    "![Generative AI Data Scientist](../img/become_a_generative_ai_data_scientist.jpg)\n",
    "\n",
    "I teach Generative AI Data Science to help you build AI-powered data science apps. [**Register for my next Generative AI for Data Scientists workshop here.**](https://learn.business-science.io/ai-register)\n"
   ]
  },
  {
   "cell_type": "markdown",
   "metadata": {
    "vscode": {
     "languageId": "bat"
    }
   },
   "source": [
    "# Table of Contents\n",
    "\n",
    "1. [Introduction](#introduction)\n",
    "2. [Load Libraries](#load-libraries)\n",
    "3. [Setup AI and Logging](#setup-ai-and-logging)\n",
    "4. [Connect to a SQL Database](#connect-to-a-sql-database)\n",
    "5. [Create The Agent](#create-the-agent)\n",
    "6. [Run the Agent](#run-the-agent)\n",
    "7. [Response](#response)\n",
    "    1. [SQL Query Code](#sql-query-code)\n",
    "    2. [Pandas Data Frame From SQL Query](#pandas-data-frame-from-sql-query)\n",
    "    3. [Python Pipeline Function](#python-pipeline-function)\n",
    "    4. [Storage Location](#storage-location)\n",
    "8. [Free Generative AI Data Science Workshop](#free-generative-ai-data-science-workshop)"
   ]
  },
  {
   "cell_type": "markdown",
   "metadata": {},
   "source": [
    "### Load Libraries"
   ]
  },
  {
   "cell_type": "code",
   "execution_count": 1,
   "metadata": {},
   "outputs": [],
   "source": [
    "# * Libraries\n",
    "\n",
    "from langchain_openai import ChatOpenAI\n",
    "\n",
    "import pandas as pd\n",
    "import sqlalchemy as sql\n",
    "\n",
    "import os\n",
    "import yaml\n",
    "from pprint import pprint\n",
    "\n",
    "from ai_data_science_team.agents import SQLDatabaseAgent"
   ]
  },
  {
   "cell_type": "markdown",
   "metadata": {},
   "source": [
    "### Setup AI and Logging\n",
    "\n",
    "This section of code sets up the LLM inputs and the logging information. Logging is used to store AI-generated code and files during the AI Data Science Teams processing of files. \n",
    "\n",
    "*Important Note:* This example uses OpenAI's API. But any LLM can be used such as Anthropic or local LLMs with Ollama."
   ]
  },
  {
   "cell_type": "code",
   "execution_count": 2,
   "metadata": {},
   "outputs": [
    {
     "data": {
      "text/plain": [
       "ChatOpenAI(client=<openai.resources.chat.completions.Completions object at 0x7f88f09364a0>, async_client=<openai.resources.chat.completions.AsyncCompletions object at 0x7f88d05fc0a0>, root_client=<openai.OpenAI object at 0x7f88f0a5d630>, root_async_client=<openai.AsyncOpenAI object at 0x7f890090dae0>, model_name='gpt-4o-mini', model_kwargs={}, openai_api_key=SecretStr('**********'))"
      ]
     },
     "execution_count": 2,
     "metadata": {},
     "output_type": "execute_result"
    }
   ],
   "source": [
    "# * Setup\n",
    "\n",
    "MODEL    = \"gpt-4o-mini\"\n",
    "LOG      = True\n",
    "LOG_PATH = os.path.join(os.getcwd(), \"logs/\")\n",
    "\n",
    "os.environ[\"OPENAI_API_KEY\"] = yaml.safe_load(open('../credentials.yml'))['openai']\n",
    "\n",
    "llm = ChatOpenAI(model = MODEL)\n",
    "\n",
    "llm\n"
   ]
  },
  {
   "cell_type": "markdown",
   "metadata": {},
   "source": [
    "### Connect to a SQL Database\n",
    "\n",
    "Next, let's connect to the leads data from a SQL database. We will need to use a `sqlalchemy` connection to use the SQL Database Agent."
   ]
  },
  {
   "cell_type": "code",
   "execution_count": 3,
   "metadata": {},
   "outputs": [
    {
     "data": {
      "text/plain": [
       "<sqlalchemy.engine.base.Connection at 0x7f88c048b4c0>"
      ]
     },
     "execution_count": 3,
     "metadata": {},
     "output_type": "execute_result"
    }
   ],
   "source": [
    "sql_engine = sql.create_engine(\"sqlite:///data/northwind.db\")\n",
    "\n",
    "conn = sql_engine.connect()\n",
    "\n",
    "conn"
   ]
  },
  {
   "cell_type": "markdown",
   "metadata": {},
   "source": [
    "### Create The Agent\n",
    "\n",
    "Run this code to create the agent with `SQLDatabaseAgent()`.\n",
    "\n",
    "The only required parameters are `model` and `connection`. \n",
    "\n",
    "- `model` is the LLM model that you want to use.\n",
    "- `connection` is the sqlalchemy connection to the SQL database.\n",
    "\n",
    "Other parameters that I've included in this demo are:\n",
    "\n",
    "- `n_samples`: The number of samples for each table x column to share with the LLM. Reduce this number for large databases to prevent LLM Max Token errors.\n",
    "- `log`: Set up logging the SQL DB agent's pipeline function\n",
    "- `log_path`: The directory to save the SQL DB agent's pipeline function\n",
    "- `bypass_explain_code`: Dynamically bypass the explain code step in the LangGraph DAG. This is useful to speed up response time when you don't need to see the explain code.\n",
    "- `bypass_recommended_steps`: Dynamically bypass the recommended steps in the LangGraph DAG. This is useful to speed up response time when you don't need to see the recommended steps."
   ]
  },
  {
   "cell_type": "code",
   "execution_count": 4,
   "metadata": {},
   "outputs": [
    {
     "data": {
      "image/png": "[encoded data removed]",
      "text/plain": [
       "<ai_data_science_team.agents.sql_database_agent.SQLDatabaseAgent object at 0x7f88d0844a30>"
      ]
     },
     "execution_count": 4,
     "metadata": {},
     "output_type": "execute_result"
    }
   ],
   "source": [
    "# Make the agent\n",
    "sql_agent = SQLDatabaseAgent(\n",
    "    model = llm, \n",
    "    connection=conn, \n",
    "    n_samples=1, # Needed for large databases to avoid token limits\n",
    "    log=LOG, \n",
    "    log_path=LOG_PATH,\n",
    "    bypass_explain_code=True,\n",
    "    bypass_recommended_steps=True,\n",
    ")\n",
    "\n",
    "sql_agent"
   ]
  },
  {
   "cell_type": "markdown",
   "metadata": {},
   "source": [
    "## Run the Agent"
   ]
  },
  {
   "cell_type": "markdown",
   "metadata": {},
   "source": [
    "The main inputs to the SQL DB Agent are:\n",
    "\n",
    "- **user_instructions**: What actions you'd like to take on the SQL database query. \n",
    "- **max_retries**: Used to limit the number of attempts to fix the SQL and Python code generated by the agent. Set this to 3 to limit to 3 attempts. \n",
    "- **retry_count**: Set this to 0. "
   ]
  },
  {
   "cell_type": "code",
   "execution_count": 5,
   "metadata": {},
   "outputs": [
    {
     "name": "stdout",
     "output_type": "stream",
     "text": [
      "---SQL DATABASE AGENT----\n",
      "    * CREATE SQL QUERY CODE\n",
      "    * CREATE PYTHON FUNCTION TO RUN SQL CODE\n",
      "      File saved to: /Users/mdancho/Desktop/course_code/ai-data-science-team/logs/sql_database.py\n",
      "    * EXECUTING AGENT CODE ON SQL CONNECTION\n"
     ]
    }
   ],
   "source": [
    "\n",
    "sql_agent.invoke_agent(\n",
    "    user_instructions=\"What are the sales for each product?\",\n",
    "    max_retries=3,\n",
    "    retry_count=0,\n",
    ")"
   ]
  },
  {
   "cell_type": "markdown",
   "metadata": {},
   "source": [
    "### Response\n",
    "\n",
    "The response produced contains everything we need to understand the data cleaning decisions made and get the cleaned dataset. "
   ]
  },
  {
   "cell_type": "code",
   "execution_count": 6,
   "metadata": {},
   "outputs": [
    {
     "data": {
      "text/plain": [
       "['messages',\n",
       " 'user_instructions',\n",
       " 'data_sql',\n",
       " 'all_sql_database_summary',\n",
       " 'sql_query_code',\n",
       " 'sql_database_function',\n",
       " 'sql_database_function_path',\n",
       " 'sql_database_function_name',\n",
       " 'sql_database_error',\n",
       " 'max_retries',\n",
       " 'retry_count']"
      ]
     },
     "execution_count": 6,
     "metadata": {},
     "output_type": "execute_result"
    }
   ],
   "source": [
    "response = sql_agent.get_response()\n",
    "\n",
    "list(response.keys())"
   ]
  },
  {
   "cell_type": "markdown",
   "metadata": {},
   "source": [
    "#### SQL Query Code"
   ]
  },
  {
   "cell_type": "code",
   "execution_count": 7,
   "metadata": {},
   "outputs": [
    {
     "data": {
      "text/markdown": [
       "```sql\n",
       "SELECT \n",
       "    p.ProductID,\n",
       "    p.ProductName,\n",
       "    SUM(od.Quantity) AS TotalSales\n",
       "FROM \n",
       "    Products p\n",
       "JOIN \n",
       "    \"Order Details\" od ON p.ProductID = od.ProductID\n",
       "GROUP BY \n",
       "    p.ProductID, p.ProductName\n",
       "ORDER BY \n",
       "    p.ProductID;\n",
       "```"
      ],
      "text/plain": [
       "<IPython.core.display.Markdown object>"
      ]
     },
     "execution_count": 7,
     "metadata": {},
     "output_type": "execute_result"
    }
   ],
   "source": [
    "sql_agent.get_sql_query_code(markdown=True)"
   ]
  },
  {
   "cell_type": "markdown",
   "metadata": {},
   "source": [
    "#### Pandas Data Frame From SQL Query"
   ]
  },
  {
   "cell_type": "code",
   "execution_count": 8,
   "metadata": {},
   "outputs": [
    {
     "data": {
      "text/html": [
       "<div>\n",
       "<style scoped>\n",
       "    .dataframe tbody tr th:only-of-type {\n",
       "        vertical-align: middle;\n",
       "    }\n",
       "\n",
       "    .dataframe tbody tr th {\n",
       "        vertical-align: top;\n",
       "    }\n",
       "\n",
       "    .dataframe thead th {\n",
       "        text-align: right;\n",
       "    }\n",
       "</style>\n",
       "<table border=\"1\" class=\"dataframe\">\n",
       "  <thead>\n",
       "    <tr style=\"text-align: right;\">\n",
       "      <th></th>\n",
       "      <th>ProductID</th>\n",
       "      <th>ProductName</th>\n",
       "      <th>TotalSales</th>\n",
       "    </tr>\n",
       "  </thead>\n",
       "  <tbody>\n",
       "    <tr>\n",
       "      <th>0</th>\n",
       "      <td>1</td>\n",
       "      <td>Chai</td>\n",
       "      <td>201905</td>\n",
       "    </tr>\n",
       "    <tr>\n",
       "      <th>1</th>\n",
       "      <td>2</td>\n",
       "      <td>Chang</td>\n",
       "      <td>201802</td>\n",
       "    </tr>\n",
       "    <tr>\n",
       "      <th>2</th>\n",
       "      <td>3</td>\n",
       "      <td>Aniseed Syrup</td>\n",
       "      <td>202186</td>\n",
       "    </tr>\n",
       "    <tr>\n",
       "      <th>3</th>\n",
       "      <td>4</td>\n",
       "      <td>Chef Anton's Cajun Seasoning</td>\n",
       "      <td>198726</td>\n",
       "    </tr>\n",
       "    <tr>\n",
       "      <th>4</th>\n",
       "      <td>5</td>\n",
       "      <td>Chef Anton's Gumbo Mix</td>\n",
       "      <td>199627</td>\n",
       "    </tr>\n",
       "    <tr>\n",
       "      <th>...</th>\n",
       "      <td>...</td>\n",
       "      <td>...</td>\n",
       "      <td>...</td>\n",
       "    </tr>\n",
       "    <tr>\n",
       "      <th>72</th>\n",
       "      <td>73</td>\n",
       "      <td>Röd Kaviar</td>\n",
       "      <td>199042</td>\n",
       "    </tr>\n",
       "    <tr>\n",
       "      <th>73</th>\n",
       "      <td>74</td>\n",
       "      <td>Longlife Tofu</td>\n",
       "      <td>202113</td>\n",
       "    </tr>\n",
       "    <tr>\n",
       "      <th>74</th>\n",
       "      <td>75</td>\n",
       "      <td>Rhönbräu Klosterbier</td>\n",
       "      <td>201021</td>\n",
       "    </tr>\n",
       "    <tr>\n",
       "      <th>75</th>\n",
       "      <td>76</td>\n",
       "      <td>Lakkalikööri</td>\n",
       "      <td>201478</td>\n",
       "    </tr>\n",
       "    <tr>\n",
       "      <th>76</th>\n",
       "      <td>77</td>\n",
       "      <td>Original Frankfurter grüne Soße</td>\n",
       "      <td>201852</td>\n",
       "    </tr>\n",
       "  </tbody>\n",
       "</table>\n",
       "<p>77 rows × 3 columns</p>\n",
       "</div>"
      ],
      "text/plain": [
       "    ProductID                      ProductName  TotalSales\n",
       "0           1                             Chai      201905\n",
       "1           2                            Chang      201802\n",
       "2           3                    Aniseed Syrup      202186\n",
       "3           4     Chef Anton's Cajun Seasoning      198726\n",
       "4           5           Chef Anton's Gumbo Mix      199627\n",
       "..        ...                              ...         ...\n",
       "72         73                       Röd Kaviar      199042\n",
       "73         74                    Longlife Tofu      202113\n",
       "74         75             Rhönbräu Klosterbier      201021\n",
       "75         76                     Lakkalikööri      201478\n",
       "76         77  Original Frankfurter grüne Soße      201852\n",
       "\n",
       "[77 rows x 3 columns]"
      ]
     },
     "execution_count": 8,
     "metadata": {},
     "output_type": "execute_result"
    }
   ],
   "source": [
    "sql_agent.get_data_sql()"
   ]
  },
  {
   "cell_type": "markdown",
   "metadata": {},
   "source": [
    "#### Python Pipeline Function"
   ]
  },
  {
   "cell_type": "code",
   "execution_count": 9,
   "metadata": {},
   "outputs": [
    {
     "data": {
      "text/markdown": [
       "```python\n",
       "# Disclaimer: This function was generated by AI. Please review before using.\n",
       "# Agent Name: sql_database_agent\n",
       "# Time Created: 2025-01-10 07:53:58\n",
       "\n",
       "\n",
       "def sql_database_pipeline(connection):\n",
       "    import pandas as pd\n",
       "    import sqlalchemy as sql\n",
       "    \n",
       "    # Create a connection if needed\n",
       "    is_engine = isinstance(connection, sql.engine.base.Engine)\n",
       "    conn = connection.connect() if is_engine else connection\n",
       "\n",
       "    sql_query = '''\n",
       "    SELECT \n",
       "    p.ProductID,\n",
       "    p.ProductName,\n",
       "    SUM(od.Quantity) AS TotalSales\n",
       "FROM \n",
       "    Products p\n",
       "JOIN \n",
       "    \"Order Details\" od ON p.ProductID = od.ProductID\n",
       "GROUP BY \n",
       "    p.ProductID, p.ProductName\n",
       "ORDER BY \n",
       "    p.ProductID;\n",
       "    '''\n",
       "    \n",
       "    return pd.read_sql(sql_query, connection)\n",
       "        \n",
       "```"
      ],
      "text/plain": [
       "<IPython.core.display.Markdown object>"
      ]
     },
     "execution_count": 9,
     "metadata": {},
     "output_type": "execute_result"
    }
   ],
   "source": [
    "sql_agent.get_sql_database_function(markdown=True)"
   ]
  },
  {
   "cell_type": "markdown",
   "metadata": {},
   "source": [
    "### Want To Become A Full-Stack Generative AI Data Scientist?\n",
    "\n",
    "![Generative AI Data Scientist](../img/become_a_generative_ai_data_scientist.jpg)\n",
    "\n",
    "I teach Generative AI Data Science to help you build AI-powered data science apps. [**Register for my next Generative AI for Data Scientists workshop here.**](https://learn.business-science.io/ai-register)"
   ]
  }
 ],
 "metadata": {
  "kernelspec": {
   "display_name": "ds4b_301p_dev",
   "language": "python",
   "name": "python3"
  },
  "language_info": {
   "codemirror_mode": {
    "name": "ipython",
    "version": 3
   },
   "file_extension": ".py",
   "mimetype": "text/x-python",
   "name": "python",
   "nbconvert_exporter": "python",
   "pygments_lexer": "ipython3",
   "version": "3.10.13"
  }
 },
 "nbformat": 4,
 "nbformat_minor": 2
}
